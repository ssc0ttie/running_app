{
 "cells": [
  {
   "cell_type": "markdown",
   "metadata": {},
   "source": [
    "# READ FROM GOOGLE SHEETS\n"
   ]
  },
  {
   "cell_type": "code",
   "execution_count": 2,
   "metadata": {},
   "outputs": [
    {
     "data": {
      "text/plain": [
       "TimeStamp               object\n",
       "Date_of_Activity        object\n",
       "Activity                object\n",
       "Distance               float64\n",
       "Pace                    object\n",
       "Time (moving time)     float64\n",
       "HR (bpm)               float64\n",
       "Cadence (steps/min)    float64\n",
       "RPE (1–10 scale)         int64\n",
       "Shoe                    object\n",
       "Remarks                 object\n",
       "Member Name             object\n",
       "dtype: object"
      ]
     },
     "execution_count": 2,
     "metadata": {},
     "output_type": "execute_result"
    }
   ],
   "source": [
    "import pandas as pd\n",
    "'''\n",
    "https://docs.google.com/spreadsheets/d/1RDIWNLnrMR9SxR6uMxI-BuQlkefXPsGTlaQx2PQ7ENM/edit?usp=sharing\n",
    "https://docs.google.com/spreadsheets/d/1RDIWNLnrMR9SxR6uMxI-BuQlkefXPsGTlaQx2PQ7ENM/edit?usp=sharing\n",
    "https://docs.google.com/spreadsheets/d/1RDIWNLnrMR9SxR6uMxI-BuQlkefXPsGTlaQx2PQ7ENM/edit?usp=sharing\n",
    "\n",
    "'''\n",
    "sheet_id = \"1RDIWNLnrMR9SxR6uMxI-BuQlkefXPsGTlaQx2PQ7ENM\"\n",
    "historical_log_gid = \"1508007696\"\n",
    "prog_gid = 0\n",
    "url= f\"https://docs.google.com/spreadsheets/d/{sheet_id}/export?format=csv&gid=\"\n",
    "\n",
    "pd.set_option('display.max_colum', 50)\n",
    "\n",
    "#Read Historical Data\n",
    "\n",
    "df = pd.read_csv(f\"{url}{historical_log_gid}\", header=None, names=[\"TimeStamp\", \"Date_of_Activity\", \"Activity\",\"Distance\",\"Pace\", \"Time (moving time)\", \"HR (bpm)\", \"Cadence (steps/min)\",\"RPE (1–10 scale)\", \"Shoe\", \"Remarks\", \"Member Name\"])\n",
    "# df.reset_index(inplace=True)\n",
    "\n",
    "\n",
    "\n",
    "\n",
    "\n",
    "df.head()\n",
    "\n",
    "df.dtypes\n",
    "\n",
    "\n"
   ]
  },
  {
   "cell_type": "markdown",
   "metadata": {},
   "source": [
    "# READ PROGRAM"
   ]
  },
  {
   "cell_type": "code",
   "execution_count": 3,
   "metadata": {},
   "outputs": [
    {
     "ename": "TypeError",
     "evalue": "unhashable type: 'list'",
     "output_type": "error",
     "traceback": [
      "\u001b[31m---------------------------------------------------------------------------\u001b[39m",
      "\u001b[31mTypeError\u001b[39m                                 Traceback (most recent call last)",
      "\u001b[32m~\\AppData\\Local\\Temp\\ipykernel_324368\\3629914996.py\u001b[39m in \u001b[36m?\u001b[39m\u001b[34m()\u001b[39m\n\u001b[32m      1\u001b[39m \u001b[38;5;66;03m#PROG READER\u001b[39;00m\n\u001b[32m      2\u001b[39m \n\u001b[32m      3\u001b[39m prog_df = pd.read_csv(f\"{url}{prog_gid}\", header=\u001b[38;5;28;01mNone\u001b[39;00m)\n\u001b[32m      4\u001b[39m prog_df = pd.read_csv(f\"{url}{prog_gid}\", header=\u001b[32m1\u001b[39m)\n\u001b[32m----> \u001b[39m\u001b[32m5\u001b[39m prog_df = prog_df.iloc([\u001b[32m1\u001b[39m,\u001b[32m2\u001b[39m,\u001b[32m3\u001b[39m])\n\u001b[32m      6\u001b[39m \n\u001b[32m      7\u001b[39m \n\u001b[32m      8\u001b[39m \n",
      "\u001b[32mc:\\Users\\king.m\\AppData\\Local\\Programs\\Python\\Python312\\Lib\\site-packages\\pandas\\core\\indexing.py\u001b[39m in \u001b[36m?\u001b[39m\u001b[34m(self, axis)\u001b[39m\n\u001b[32m    734\u001b[39m         \u001b[38;5;66;03m# we need to return a copy of ourselves\u001b[39;00m\n\u001b[32m    735\u001b[39m         new_self = type(self)(self.name, self.obj)\n\u001b[32m    736\u001b[39m \n\u001b[32m    737\u001b[39m         \u001b[38;5;28;01mif\u001b[39;00m axis \u001b[38;5;28;01mis\u001b[39;00m \u001b[38;5;28;01mnot\u001b[39;00m \u001b[38;5;28;01mNone\u001b[39;00m:\n\u001b[32m--> \u001b[39m\u001b[32m738\u001b[39m             axis_int_none = self.obj._get_axis_number(axis)\n\u001b[32m    739\u001b[39m         \u001b[38;5;28;01melse\u001b[39;00m:\n\u001b[32m    740\u001b[39m             axis_int_none = axis\n\u001b[32m    741\u001b[39m         new_self.axis = axis_int_none\n",
      "\u001b[32mc:\\Users\\king.m\\AppData\\Local\\Programs\\Python\\Python312\\Lib\\site-packages\\pandas\\core\\generic.py\u001b[39m in \u001b[36m?\u001b[39m\u001b[34m(cls, axis)\u001b[39m\n\u001b[32m    573\u001b[39m     @classmethod\n\u001b[32m    574\u001b[39m     \u001b[38;5;28;01mdef\u001b[39;00m _get_axis_number(cls, axis: Axis) -> AxisInt:\n\u001b[32m    575\u001b[39m         \u001b[38;5;28;01mtry\u001b[39;00m:\n\u001b[32m    576\u001b[39m             \u001b[38;5;28;01mreturn\u001b[39;00m cls._AXIS_TO_AXIS_NUMBER[axis]\n\u001b[32m--> \u001b[39m\u001b[32m577\u001b[39m         \u001b[38;5;28;01mexcept\u001b[39;00m KeyError:\n\u001b[32m    578\u001b[39m             \u001b[38;5;28;01mraise\u001b[39;00m ValueError(f\"No axis named {axis} for object type {cls.__name__}\")\n",
      "\u001b[31mTypeError\u001b[39m: unhashable type: 'list'"
     ]
    }
   ],
   "source": [
    "#PROG READER\n",
    "\n",
    "prog_df = pd.read_csv(f\"{url}{prog_gid}\", header=None)\n",
    "prog_df = pd.read_csv(f\"{url}{prog_gid}\", header=1)\n",
    "prog_df = prog_df.iloc([1,2,3])\n",
    "\n",
    "\n",
    "\n",
    "\n",
    "prog_df.head()\n"
   ]
  },
  {
   "cell_type": "markdown",
   "metadata": {},
   "source": [
    "# DF CLEANUP"
   ]
  },
  {
   "cell_type": "code",
   "execution_count": null,
   "metadata": {},
   "outputs": [
    {
     "data": {
      "text/plain": [
       "Distance\n",
       "5.00     9\n",
       "3.00     7\n",
       "4.00     6\n",
       "12.00    3\n",
       "3.04     2\n",
       "        ..\n",
       "14.20    1\n",
       "12.21    1\n",
       "14.01    1\n",
       "6.52     1\n",
       "4.54     1\n",
       "Name: count, Length: 69, dtype: int64"
      ]
     },
     "execution_count": 160,
     "metadata": {},
     "output_type": "execute_result"
    }
   ],
   "source": [
    "##READ WEEK LOOKUP\n",
    "import pandas as pd\n",
    "import datetime as dt\n",
    "\n",
    "\n",
    "sheet_id = \"1RDIWNLnrMR9SxR6uMxI-BuQlkefXPsGTlaQx2PQ7ENM\"\n",
    "historical_log_gid = \"1508007696\"\n",
    "week_lookup_gid = \"336401596\"\n",
    "prog_gid = 0\n",
    "url = f\"https://docs.google.com/spreadsheets/d/{sheet_id}/export?format=csv&gid=\"\n",
    "\n",
    "\n",
    "df_week_lookup = pd.read_csv(f\"{url}{week_lookup_gid}\", header=None, skiprows=1)\n",
    "df_week_lookup\n",
    "\n",
    "#filter only first 2 columns\n",
    "df2= df_week_lookup[[0,1,2]].copy()\n",
    "#rename columns\n",
    "df2.columns = [\"Date\", \"Week_Number\", \"Scheduled_Activity\"]\n",
    "\n",
    "#clean data columns used for calculations\n",
    "df2[\"Date\"] = pd.to_datetime(df2[\"Date\"])\n",
    "df[\"Date_of_Activity\"] = pd.to_datetime(df[\"Date_of_Activity\"])\n",
    "df[\"Pace\"] = pd.to_timedelta(df[\"Pace\"])\n",
    "\n",
    "df['Distance'].value_counts()\n",
    "\n"
   ]
  },
  {
   "cell_type": "markdown",
   "metadata": {},
   "source": [
    "### WEEK LOOKUP"
   ]
  },
  {
   "cell_type": "code",
   "execution_count": null,
   "metadata": {},
   "outputs": [
    {
     "data": {
      "text/html": [
       "<div>\n",
       "<style scoped>\n",
       "    .dataframe tbody tr th:only-of-type {\n",
       "        vertical-align: middle;\n",
       "    }\n",
       "\n",
       "    .dataframe tbody tr th {\n",
       "        vertical-align: top;\n",
       "    }\n",
       "\n",
       "    .dataframe thead th {\n",
       "        text-align: right;\n",
       "    }\n",
       "</style>\n",
       "<table border=\"1\" class=\"dataframe\">\n",
       "  <thead>\n",
       "    <tr style=\"text-align: right;\">\n",
       "      <th></th>\n",
       "      <th>TimeStamp</th>\n",
       "      <th>Date_of_Activity</th>\n",
       "      <th>Activity</th>\n",
       "      <th>Distance</th>\n",
       "      <th>Pace</th>\n",
       "      <th>Time (moving time)</th>\n",
       "      <th>HR (bpm)</th>\n",
       "      <th>Cadence (steps/min)</th>\n",
       "      <th>RPE (1–10 scale)</th>\n",
       "      <th>Shoe</th>\n",
       "      <th>Remarks</th>\n",
       "      <th>Member Name</th>\n",
       "      <th>Date</th>\n",
       "      <th>Week_Number</th>\n",
       "      <th>Scheduled_Activity</th>\n",
       "      <th>Moving_Time</th>\n",
       "    </tr>\n",
       "  </thead>\n",
       "  <tbody>\n",
       "    <tr>\n",
       "      <th>0</th>\n",
       "      <td>5/5/2025</td>\n",
       "      <td>2025-05-05</td>\n",
       "      <td>30 Mins Easy Run</td>\n",
       "      <td>3.82</td>\n",
       "      <td>0 days 00:09:14</td>\n",
       "      <td>NaN</td>\n",
       "      <td>122.0</td>\n",
       "      <td>160.0</td>\n",
       "      <td>3</td>\n",
       "      <td>Nike Winflo 10</td>\n",
       "      <td>NaN</td>\n",
       "      <td>Aiza</td>\n",
       "      <td>2025-05-05</td>\n",
       "      <td>TRANSITION 1</td>\n",
       "      <td>30 Mins Easy Run</td>\n",
       "      <td>0 days 00:35:16.280000</td>\n",
       "    </tr>\n",
       "    <tr>\n",
       "      <th>1</th>\n",
       "      <td>5/6/2025</td>\n",
       "      <td>2025-05-05</td>\n",
       "      <td>30 Mins Easy Run</td>\n",
       "      <td>3.00</td>\n",
       "      <td>0 days 00:08:44</td>\n",
       "      <td>NaN</td>\n",
       "      <td>NaN</td>\n",
       "      <td>NaN</td>\n",
       "      <td>1</td>\n",
       "      <td>NaN</td>\n",
       "      <td>NaN</td>\n",
       "      <td>Fraulein</td>\n",
       "      <td>2025-05-05</td>\n",
       "      <td>TRANSITION 1</td>\n",
       "      <td>30 Mins Easy Run</td>\n",
       "      <td>0 days 00:26:12</td>\n",
       "    </tr>\n",
       "    <tr>\n",
       "      <th>2</th>\n",
       "      <td>5/6/2025</td>\n",
       "      <td>2025-05-06</td>\n",
       "      <td>30 Mins Easy Run</td>\n",
       "      <td>3.70</td>\n",
       "      <td>0 days 00:08:16</td>\n",
       "      <td>NaN</td>\n",
       "      <td>133.0</td>\n",
       "      <td>165.0</td>\n",
       "      <td>5</td>\n",
       "      <td>Reebok Float Ride Energy 4</td>\n",
       "      <td>NaN</td>\n",
       "      <td>Aiza</td>\n",
       "      <td>2025-05-06</td>\n",
       "      <td>TRANSITION 1</td>\n",
       "      <td>1k @ Zone 3 /Tempo/ Comfortably Hard</td>\n",
       "      <td>0 days 00:30:35.200000</td>\n",
       "    </tr>\n",
       "    <tr>\n",
       "      <th>3</th>\n",
       "      <td>5/8/2025</td>\n",
       "      <td>2025-05-06</td>\n",
       "      <td>20 Mins Easy Run</td>\n",
       "      <td>2.43</td>\n",
       "      <td>0 days 00:08:24</td>\n",
       "      <td>NaN</td>\n",
       "      <td>NaN</td>\n",
       "      <td>NaN</td>\n",
       "      <td>2</td>\n",
       "      <td>NaN</td>\n",
       "      <td>Puyat!</td>\n",
       "      <td>Fraulein</td>\n",
       "      <td>2025-05-06</td>\n",
       "      <td>TRANSITION 1</td>\n",
       "      <td>1k @ Zone 3 /Tempo/ Comfortably Hard</td>\n",
       "      <td>0 days 00:20:24.720000</td>\n",
       "    </tr>\n",
       "    <tr>\n",
       "      <th>4</th>\n",
       "      <td>5/8/2025</td>\n",
       "      <td>2025-05-07</td>\n",
       "      <td>Rest</td>\n",
       "      <td>NaN</td>\n",
       "      <td>NaT</td>\n",
       "      <td>NaN</td>\n",
       "      <td>NaN</td>\n",
       "      <td>NaN</td>\n",
       "      <td>1</td>\n",
       "      <td>NaN</td>\n",
       "      <td>LG 😜</td>\n",
       "      <td>Fraulein</td>\n",
       "      <td>2025-05-07</td>\n",
       "      <td>TRANSITION 1</td>\n",
       "      <td>Rest</td>\n",
       "      <td>NaT</td>\n",
       "    </tr>\n",
       "    <tr>\n",
       "      <th>...</th>\n",
       "      <td>...</td>\n",
       "      <td>...</td>\n",
       "      <td>...</td>\n",
       "      <td>...</td>\n",
       "      <td>...</td>\n",
       "      <td>...</td>\n",
       "      <td>...</td>\n",
       "      <td>...</td>\n",
       "      <td>...</td>\n",
       "      <td>...</td>\n",
       "      <td>...</td>\n",
       "      <td>...</td>\n",
       "      <td>...</td>\n",
       "      <td>...</td>\n",
       "      <td>...</td>\n",
       "      <td>...</td>\n",
       "    </tr>\n",
       "    <tr>\n",
       "      <th>115</th>\n",
       "      <td>6/7/2025</td>\n",
       "      <td>2025-06-07</td>\n",
       "      <td>12k LSD Road@ Zone 2 Pace</td>\n",
       "      <td>14.01</td>\n",
       "      <td>0 days 00:08:33</td>\n",
       "      <td>NaN</td>\n",
       "      <td>129.0</td>\n",
       "      <td>NaN</td>\n",
       "      <td>7</td>\n",
       "      <td>Nike Winflo 10</td>\n",
       "      <td>It was a good run… felt pain on my knees, stra...</td>\n",
       "      <td>Aiza</td>\n",
       "      <td>2025-06-07</td>\n",
       "      <td>TRANSITION 5</td>\n",
       "      <td>12k LSD Road@ Zone 2 Pace</td>\n",
       "      <td>0 days 01:59:47.130000</td>\n",
       "    </tr>\n",
       "    <tr>\n",
       "      <th>116</th>\n",
       "      <td>6/9/2025</td>\n",
       "      <td>2025-06-09</td>\n",
       "      <td>45 Mins Easy Run</td>\n",
       "      <td>6.52</td>\n",
       "      <td>0 days 00:06:51</td>\n",
       "      <td>NaN</td>\n",
       "      <td>130.0</td>\n",
       "      <td>165.0</td>\n",
       "      <td>3</td>\n",
       "      <td>Boston 12</td>\n",
       "      <td>Testing insole boston 12. Iba yung sumasakit s...</td>\n",
       "      <td>Scott</td>\n",
       "      <td>2025-06-09</td>\n",
       "      <td>TRANSITION 6</td>\n",
       "      <td>30 Mins Easy Run</td>\n",
       "      <td>0 days 00:44:39.720000</td>\n",
       "    </tr>\n",
       "    <tr>\n",
       "      <th>117</th>\n",
       "      <td>6/9/2025</td>\n",
       "      <td>2025-06-08</td>\n",
       "      <td>Cross Train</td>\n",
       "      <td>NaN</td>\n",
       "      <td>NaT</td>\n",
       "      <td>NaN</td>\n",
       "      <td>69.0</td>\n",
       "      <td>NaN</td>\n",
       "      <td>1</td>\n",
       "      <td>NaN</td>\n",
       "      <td>Yoga sunday with chona. Mukang recovered naman...</td>\n",
       "      <td>Scott</td>\n",
       "      <td>2025-06-08</td>\n",
       "      <td>TRANSITION 5</td>\n",
       "      <td>Rest</td>\n",
       "      <td>NaT</td>\n",
       "    </tr>\n",
       "    <tr>\n",
       "      <th>118</th>\n",
       "      <td>6/9/2025</td>\n",
       "      <td>2025-06-07</td>\n",
       "      <td>12k LSD Road@ Zone 2 Pace</td>\n",
       "      <td>12.00</td>\n",
       "      <td>0 days 00:11:04</td>\n",
       "      <td>NaN</td>\n",
       "      <td>130.0</td>\n",
       "      <td>141.0</td>\n",
       "      <td>7</td>\n",
       "      <td>NB Rebel v3</td>\n",
       "      <td>NaN</td>\n",
       "      <td>Lead</td>\n",
       "      <td>2025-06-07</td>\n",
       "      <td>TRANSITION 5</td>\n",
       "      <td>12k LSD Road@ Zone 2 Pace</td>\n",
       "      <td>0 days 02:12:48</td>\n",
       "    </tr>\n",
       "    <tr>\n",
       "      <th>119</th>\n",
       "      <td>6/9/2025</td>\n",
       "      <td>2025-06-04</td>\n",
       "      <td>45 Mins Easy Run</td>\n",
       "      <td>4.54</td>\n",
       "      <td>0 days 00:10:02</td>\n",
       "      <td>NaN</td>\n",
       "      <td>141.0</td>\n",
       "      <td>156.0</td>\n",
       "      <td>7</td>\n",
       "      <td>NB Rebel v3</td>\n",
       "      <td>NaN</td>\n",
       "      <td>Lead</td>\n",
       "      <td>2025-06-04</td>\n",
       "      <td>TRANSITION 5</td>\n",
       "      <td>Rest</td>\n",
       "      <td>0 days 00:45:33.080000</td>\n",
       "    </tr>\n",
       "  </tbody>\n",
       "</table>\n",
       "<p>120 rows × 16 columns</p>\n",
       "</div>"
      ],
      "text/plain": [
       "    TimeStamp Date_of_Activity                   Activity  Distance  \\\n",
       "0    5/5/2025       2025-05-05           30 Mins Easy Run      3.82   \n",
       "1    5/6/2025       2025-05-05           30 Mins Easy Run      3.00   \n",
       "2    5/6/2025       2025-05-06           30 Mins Easy Run      3.70   \n",
       "3    5/8/2025       2025-05-06           20 Mins Easy Run      2.43   \n",
       "4    5/8/2025       2025-05-07                       Rest       NaN   \n",
       "..        ...              ...                        ...       ...   \n",
       "115  6/7/2025       2025-06-07  12k LSD Road@ Zone 2 Pace     14.01   \n",
       "116  6/9/2025       2025-06-09           45 Mins Easy Run      6.52   \n",
       "117  6/9/2025       2025-06-08                Cross Train       NaN   \n",
       "118  6/9/2025       2025-06-07  12k LSD Road@ Zone 2 Pace     12.00   \n",
       "119  6/9/2025       2025-06-04           45 Mins Easy Run      4.54   \n",
       "\n",
       "               Pace  Time (moving time)  HR (bpm)  Cadence (steps/min)  \\\n",
       "0   0 days 00:09:14                 NaN     122.0                160.0   \n",
       "1   0 days 00:08:44                 NaN       NaN                  NaN   \n",
       "2   0 days 00:08:16                 NaN     133.0                165.0   \n",
       "3   0 days 00:08:24                 NaN       NaN                  NaN   \n",
       "4               NaT                 NaN       NaN                  NaN   \n",
       "..              ...                 ...       ...                  ...   \n",
       "115 0 days 00:08:33                 NaN     129.0                  NaN   \n",
       "116 0 days 00:06:51                 NaN     130.0                165.0   \n",
       "117             NaT                 NaN      69.0                  NaN   \n",
       "118 0 days 00:11:04                 NaN     130.0                141.0   \n",
       "119 0 days 00:10:02                 NaN     141.0                156.0   \n",
       "\n",
       "     RPE (1–10 scale)                        Shoe  \\\n",
       "0                   3              Nike Winflo 10   \n",
       "1                   1                         NaN   \n",
       "2                   5  Reebok Float Ride Energy 4   \n",
       "3                   2                         NaN   \n",
       "4                   1                         NaN   \n",
       "..                ...                         ...   \n",
       "115                 7              Nike Winflo 10   \n",
       "116                 3                   Boston 12   \n",
       "117                 1                         NaN   \n",
       "118                 7                 NB Rebel v3   \n",
       "119                 7                 NB Rebel v3   \n",
       "\n",
       "                                               Remarks Member Name       Date  \\\n",
       "0                                                  NaN        Aiza 2025-05-05   \n",
       "1                                                  NaN    Fraulein 2025-05-05   \n",
       "2                                                  NaN        Aiza 2025-05-06   \n",
       "3                                               Puyat!    Fraulein 2025-05-06   \n",
       "4                                                 LG 😜    Fraulein 2025-05-07   \n",
       "..                                                 ...         ...        ...   \n",
       "115  It was a good run… felt pain on my knees, stra...        Aiza 2025-06-07   \n",
       "116  Testing insole boston 12. Iba yung sumasakit s...       Scott 2025-06-09   \n",
       "117  Yoga sunday with chona. Mukang recovered naman...       Scott 2025-06-08   \n",
       "118                                                NaN        Lead 2025-06-07   \n",
       "119                                                NaN        Lead 2025-06-04   \n",
       "\n",
       "      Week_Number                    Scheduled_Activity            Moving_Time  \n",
       "0    TRANSITION 1                      30 Mins Easy Run 0 days 00:35:16.280000  \n",
       "1    TRANSITION 1                      30 Mins Easy Run        0 days 00:26:12  \n",
       "2    TRANSITION 1  1k @ Zone 3 /Tempo/ Comfortably Hard 0 days 00:30:35.200000  \n",
       "3    TRANSITION 1  1k @ Zone 3 /Tempo/ Comfortably Hard 0 days 00:20:24.720000  \n",
       "4    TRANSITION 1                                  Rest                    NaT  \n",
       "..            ...                                   ...                    ...  \n",
       "115  TRANSITION 5             12k LSD Road@ Zone 2 Pace 0 days 01:59:47.130000  \n",
       "116  TRANSITION 6                      30 Mins Easy Run 0 days 00:44:39.720000  \n",
       "117  TRANSITION 5                                  Rest                    NaT  \n",
       "118  TRANSITION 5             12k LSD Road@ Zone 2 Pace        0 days 02:12:48  \n",
       "119  TRANSITION 5                                  Rest 0 days 00:45:33.080000  \n",
       "\n",
       "[120 rows x 16 columns]"
      ]
     },
     "execution_count": 161,
     "metadata": {},
     "output_type": "execute_result"
    },
    {
     "ename": "",
     "evalue": "",
     "output_type": "error",
     "traceback": [
      "\u001b[1;31mThe Kernel crashed while executing code in the current cell or a previous cell. \n",
      "\u001b[1;31mPlease review the code in the cell(s) to identify a possible cause of the failure. \n",
      "\u001b[1;31mClick <a href='https://aka.ms/vscodeJupyterKernelCrash'>here</a> for more info. \n",
      "\u001b[1;31mView Jupyter <a href='command:jupyter.viewOutput'>log</a> for further details."
     ]
    }
   ],
   "source": [
    "#lookup of weekname\n",
    "df_lookuped= df.merge(df2, left_on=\"Date_of_Activity\", right_on=\"Date\", how=\"left\")\n",
    "df_lookuped.dtypes\n",
    "\n",
    "\n",
    "# Apply to column\n",
    "\n",
    "\n",
    "#CALCULATE MOVING TIME\n",
    "df_lookuped[\"Moving_Time\"] = df_lookuped[\"Pace\"] * df_lookuped[\"Distance\"]\n",
    "\n",
    "df_lookuped\n"
   ]
  },
  {
   "cell_type": "markdown",
   "metadata": {},
   "source": [
    "# PUSH DATA"
   ]
  },
  {
   "cell_type": "markdown",
   "metadata": {},
   "source": [
    "# "
   ]
  },
  {
   "cell_type": "code",
   "execution_count": null,
   "metadata": {},
   "outputs": [
    {
     "ename": "ValueError",
     "evalue": "If using all scalar values, you must pass an index",
     "output_type": "error",
     "traceback": [
      "\u001b[31m---------------------------------------------------------------------------\u001b[39m",
      "\u001b[31mValueError\u001b[39m                                Traceback (most recent call last)",
      "\u001b[36mCell\u001b[39m\u001b[36m \u001b[39m\u001b[32mIn[6]\u001b[39m\u001b[32m, line 19\u001b[39m\n\u001b[32m     15\u001b[39m pd.set_option(\u001b[33m\"\u001b[39m\u001b[33mdisplay.max_colum\u001b[39m\u001b[33m\"\u001b[39m, \u001b[32m50\u001b[39m)\n\u001b[32m     17\u001b[39m \u001b[38;5;66;03m# Read Historical Data and adding header names\u001b[39;00m\n\u001b[32m---> \u001b[39m\u001b[32m19\u001b[39m new_entry = \u001b[43mpd\u001b[49m\u001b[43m.\u001b[49m\u001b[43mDataFrame\u001b[49m\u001b[43m(\u001b[49m\n\u001b[32m     20\u001b[39m \u001b[43m    \u001b[49m\u001b[43m{\u001b[49m\u001b[33;43m\"\u001b[39;49m\u001b[33;43mTimeStamp\u001b[39;49m\u001b[33;43m\"\u001b[39;49m\u001b[43m:\u001b[49m\u001b[32;43m1\u001b[39;49m\u001b[43m,\u001b[49m\u001b[43m \u001b[49m\u001b[33;43m\"\u001b[39;49m\u001b[33;43mDate_of_Activity\u001b[39;49m\u001b[33;43m\"\u001b[39;49m\u001b[43m:\u001b[49m\u001b[32;43m2\u001b[39;49m\u001b[43m,\u001b[49m\n\u001b[32m     21\u001b[39m \u001b[43m        \u001b[49m\u001b[33;43m\"\u001b[39;49m\u001b[33;43mActivity\u001b[39;49m\u001b[33;43m\"\u001b[39;49m\u001b[43m:\u001b[49m\u001b[33;43m\"\u001b[39;49m\u001b[33;43ms\u001b[39;49m\u001b[33;43m\"\u001b[39;49m\u001b[43m,\u001b[49m\n\u001b[32m     22\u001b[39m \u001b[43m        \u001b[49m\u001b[33;43m\"\u001b[39;49m\u001b[33;43mDistance\u001b[39;49m\u001b[33;43m\"\u001b[39;49m\u001b[43m:\u001b[49m\u001b[32;43m2\u001b[39;49m\u001b[43m,\u001b[49m\n\u001b[32m     23\u001b[39m \u001b[43m        \u001b[49m\u001b[33;43m\"\u001b[39;49m\u001b[33;43mPace\u001b[39;49m\u001b[33;43m\"\u001b[39;49m\u001b[43m:\u001b[49m\u001b[32;43m3\u001b[39;49m\u001b[43m,\u001b[49m\n\u001b[32m     24\u001b[39m \u001b[43m        \u001b[49m\u001b[33;43m\"\u001b[39;49m\u001b[33;43mTime (moving time)\u001b[39;49m\u001b[33;43m\"\u001b[39;49m\u001b[43m:\u001b[49m\u001b[33;43m\"\u001b[39;49m\u001b[33;43mq\u001b[39;49m\u001b[33;43m\"\u001b[39;49m\u001b[43m,\u001b[49m\n\u001b[32m     25\u001b[39m \u001b[43m        \u001b[49m\u001b[33;43m\"\u001b[39;49m\u001b[33;43mHR (bpm)\u001b[39;49m\u001b[33;43m\"\u001b[39;49m\u001b[43m:\u001b[49m\u001b[32;43m4\u001b[39;49m\u001b[43m,\u001b[49m\n\u001b[32m     26\u001b[39m \u001b[43m        \u001b[49m\u001b[33;43m\"\u001b[39;49m\u001b[33;43mCadence (steps/min)\u001b[39;49m\u001b[33;43m\"\u001b[39;49m\u001b[43m:\u001b[49m\u001b[32;43m4\u001b[39;49m\u001b[43m,\u001b[49m\n\u001b[32m     27\u001b[39m \u001b[43m        \u001b[49m\u001b[33;43m\"\u001b[39;49m\u001b[33;43mRPE (1–10 scale)\u001b[39;49m\u001b[33;43m\"\u001b[39;49m\u001b[43m:\u001b[49m\u001b[32;43m5\u001b[39;49m\u001b[43m,\u001b[49m\n\u001b[32m     28\u001b[39m \u001b[43m        \u001b[49m\u001b[33;43m\"\u001b[39;49m\u001b[33;43mShoe\u001b[39;49m\u001b[33;43m\"\u001b[39;49m\u001b[43m:\u001b[49m\u001b[33;43m\"\u001b[39;49m\u001b[33;43mtest\u001b[39;49m\u001b[33;43m\"\u001b[39;49m\u001b[43m,\u001b[49m\n\u001b[32m     29\u001b[39m \u001b[43m        \u001b[49m\u001b[33;43m\"\u001b[39;49m\u001b[33;43mRemarks\u001b[39;49m\u001b[33;43m\"\u001b[39;49m\u001b[43m:\u001b[49m\u001b[33;43m\"\u001b[39;49m\u001b[33;43mtest\u001b[39;49m\u001b[33;43m\"\u001b[39;49m\u001b[43m,\u001b[49m\n\u001b[32m     30\u001b[39m \u001b[43m        \u001b[49m\u001b[33;43m\"\u001b[39;49m\u001b[33;43mMember Name\u001b[39;49m\u001b[33;43m\"\u001b[39;49m\u001b[43m:\u001b[49m\u001b[33;43m\"\u001b[39;49m\u001b[33;43mtest\u001b[39;49m\u001b[33;43m\"\u001b[39;49m\u001b[43m,\u001b[49m\n\u001b[32m     31\u001b[39m \n\u001b[32m     32\u001b[39m \u001b[43m}\u001b[49m\u001b[43m)\u001b[49m\n\u001b[32m     34\u001b[39m df_week_lookup = pd.read_csv(\u001b[33mf\u001b[39m\u001b[33m\"\u001b[39m\u001b[38;5;132;01m{\u001b[39;00murl\u001b[38;5;132;01m}\u001b[39;00m\u001b[38;5;132;01m{\u001b[39;00mweek_lookup_gid\u001b[38;5;132;01m}\u001b[39;00m\u001b[33m\"\u001b[39m, header=\u001b[38;5;28;01mNone\u001b[39;00m, skiprows=\u001b[32m1\u001b[39m)\n\u001b[32m     36\u001b[39m new_entry.to_csv(\u001b[33mf\u001b[39m\u001b[33m\"\u001b[39m\u001b[38;5;132;01m{\u001b[39;00murl\u001b[38;5;132;01m}\u001b[39;00m\u001b[38;5;132;01m{\u001b[39;00mnew_log_gid\u001b[38;5;132;01m}\u001b[39;00m\u001b[33m\"\u001b[39m,mode=\u001b[33m'\u001b[39m\u001b[33ma\u001b[39m\u001b[33m'\u001b[39m, header=\u001b[38;5;28;01mFalse\u001b[39;00m)\n",
      "\u001b[36mFile \u001b[39m\u001b[32mc:\\Users\\king.m\\AppData\\Local\\Programs\\Python\\Python312\\Lib\\site-packages\\pandas\\core\\frame.py:778\u001b[39m, in \u001b[36mDataFrame.__init__\u001b[39m\u001b[34m(self, data, index, columns, dtype, copy)\u001b[39m\n\u001b[32m    772\u001b[39m     mgr = \u001b[38;5;28mself\u001b[39m._init_mgr(\n\u001b[32m    773\u001b[39m         data, axes={\u001b[33m\"\u001b[39m\u001b[33mindex\u001b[39m\u001b[33m\"\u001b[39m: index, \u001b[33m\"\u001b[39m\u001b[33mcolumns\u001b[39m\u001b[33m\"\u001b[39m: columns}, dtype=dtype, copy=copy\n\u001b[32m    774\u001b[39m     )\n\u001b[32m    776\u001b[39m \u001b[38;5;28;01melif\u001b[39;00m \u001b[38;5;28misinstance\u001b[39m(data, \u001b[38;5;28mdict\u001b[39m):\n\u001b[32m    777\u001b[39m     \u001b[38;5;66;03m# GH#38939 de facto copy defaults to False only in non-dict cases\u001b[39;00m\n\u001b[32m--> \u001b[39m\u001b[32m778\u001b[39m     mgr = \u001b[43mdict_to_mgr\u001b[49m\u001b[43m(\u001b[49m\u001b[43mdata\u001b[49m\u001b[43m,\u001b[49m\u001b[43m \u001b[49m\u001b[43mindex\u001b[49m\u001b[43m,\u001b[49m\u001b[43m \u001b[49m\u001b[43mcolumns\u001b[49m\u001b[43m,\u001b[49m\u001b[43m \u001b[49m\u001b[43mdtype\u001b[49m\u001b[43m=\u001b[49m\u001b[43mdtype\u001b[49m\u001b[43m,\u001b[49m\u001b[43m \u001b[49m\u001b[43mcopy\u001b[49m\u001b[43m=\u001b[49m\u001b[43mcopy\u001b[49m\u001b[43m,\u001b[49m\u001b[43m \u001b[49m\u001b[43mtyp\u001b[49m\u001b[43m=\u001b[49m\u001b[43mmanager\u001b[49m\u001b[43m)\u001b[49m\n\u001b[32m    779\u001b[39m \u001b[38;5;28;01melif\u001b[39;00m \u001b[38;5;28misinstance\u001b[39m(data, ma.MaskedArray):\n\u001b[32m    780\u001b[39m     \u001b[38;5;28;01mfrom\u001b[39;00m\u001b[38;5;250m \u001b[39m\u001b[34;01mnumpy\u001b[39;00m\u001b[34;01m.\u001b[39;00m\u001b[34;01mma\u001b[39;00m\u001b[38;5;250m \u001b[39m\u001b[38;5;28;01mimport\u001b[39;00m mrecords\n",
      "\u001b[36mFile \u001b[39m\u001b[32mc:\\Users\\king.m\\AppData\\Local\\Programs\\Python\\Python312\\Lib\\site-packages\\pandas\\core\\internals\\construction.py:503\u001b[39m, in \u001b[36mdict_to_mgr\u001b[39m\u001b[34m(data, index, columns, dtype, typ, copy)\u001b[39m\n\u001b[32m    499\u001b[39m     \u001b[38;5;28;01melse\u001b[39;00m:\n\u001b[32m    500\u001b[39m         \u001b[38;5;66;03m# dtype check to exclude e.g. range objects, scalars\u001b[39;00m\n\u001b[32m    501\u001b[39m         arrays = [x.copy() \u001b[38;5;28;01mif\u001b[39;00m \u001b[38;5;28mhasattr\u001b[39m(x, \u001b[33m\"\u001b[39m\u001b[33mdtype\u001b[39m\u001b[33m\"\u001b[39m) \u001b[38;5;28;01melse\u001b[39;00m x \u001b[38;5;28;01mfor\u001b[39;00m x \u001b[38;5;129;01min\u001b[39;00m arrays]\n\u001b[32m--> \u001b[39m\u001b[32m503\u001b[39m \u001b[38;5;28;01mreturn\u001b[39;00m \u001b[43marrays_to_mgr\u001b[49m\u001b[43m(\u001b[49m\u001b[43marrays\u001b[49m\u001b[43m,\u001b[49m\u001b[43m \u001b[49m\u001b[43mcolumns\u001b[49m\u001b[43m,\u001b[49m\u001b[43m \u001b[49m\u001b[43mindex\u001b[49m\u001b[43m,\u001b[49m\u001b[43m \u001b[49m\u001b[43mdtype\u001b[49m\u001b[43m=\u001b[49m\u001b[43mdtype\u001b[49m\u001b[43m,\u001b[49m\u001b[43m \u001b[49m\u001b[43mtyp\u001b[49m\u001b[43m=\u001b[49m\u001b[43mtyp\u001b[49m\u001b[43m,\u001b[49m\u001b[43m \u001b[49m\u001b[43mconsolidate\u001b[49m\u001b[43m=\u001b[49m\u001b[43mcopy\u001b[49m\u001b[43m)\u001b[49m\n",
      "\u001b[36mFile \u001b[39m\u001b[32mc:\\Users\\king.m\\AppData\\Local\\Programs\\Python\\Python312\\Lib\\site-packages\\pandas\\core\\internals\\construction.py:114\u001b[39m, in \u001b[36marrays_to_mgr\u001b[39m\u001b[34m(arrays, columns, index, dtype, verify_integrity, typ, consolidate)\u001b[39m\n\u001b[32m    111\u001b[39m \u001b[38;5;28;01mif\u001b[39;00m verify_integrity:\n\u001b[32m    112\u001b[39m     \u001b[38;5;66;03m# figure out the index, if necessary\u001b[39;00m\n\u001b[32m    113\u001b[39m     \u001b[38;5;28;01mif\u001b[39;00m index \u001b[38;5;129;01mis\u001b[39;00m \u001b[38;5;28;01mNone\u001b[39;00m:\n\u001b[32m--> \u001b[39m\u001b[32m114\u001b[39m         index = \u001b[43m_extract_index\u001b[49m\u001b[43m(\u001b[49m\u001b[43marrays\u001b[49m\u001b[43m)\u001b[49m\n\u001b[32m    115\u001b[39m     \u001b[38;5;28;01melse\u001b[39;00m:\n\u001b[32m    116\u001b[39m         index = ensure_index(index)\n",
      "\u001b[36mFile \u001b[39m\u001b[32mc:\\Users\\king.m\\AppData\\Local\\Programs\\Python\\Python312\\Lib\\site-packages\\pandas\\core\\internals\\construction.py:667\u001b[39m, in \u001b[36m_extract_index\u001b[39m\u001b[34m(data)\u001b[39m\n\u001b[32m    664\u001b[39m         \u001b[38;5;28;01mraise\u001b[39;00m \u001b[38;5;167;01mValueError\u001b[39;00m(\u001b[33m\"\u001b[39m\u001b[33mPer-column arrays must each be 1-dimensional\u001b[39m\u001b[33m\"\u001b[39m)\n\u001b[32m    666\u001b[39m \u001b[38;5;28;01mif\u001b[39;00m \u001b[38;5;129;01mnot\u001b[39;00m indexes \u001b[38;5;129;01mand\u001b[39;00m \u001b[38;5;129;01mnot\u001b[39;00m raw_lengths:\n\u001b[32m--> \u001b[39m\u001b[32m667\u001b[39m     \u001b[38;5;28;01mraise\u001b[39;00m \u001b[38;5;167;01mValueError\u001b[39;00m(\u001b[33m\"\u001b[39m\u001b[33mIf using all scalar values, you must pass an index\u001b[39m\u001b[33m\"\u001b[39m)\n\u001b[32m    669\u001b[39m \u001b[38;5;28;01mif\u001b[39;00m have_series:\n\u001b[32m    670\u001b[39m     index = union_indexes(indexes)\n",
      "\u001b[31mValueError\u001b[39m: If using all scalar values, you must pass an index"
     ]
    }
   ],
   "source": [
    "import pandas as pd\n",
    "\n",
    "sheet_id = \"1RDIWNLnrMR9SxR6uMxI-BuQlkefXPsGTlaQx2PQ7ENM\"\n",
    "new_log_gid = \"1611308583\"\n",
    "week_lookup_gid = \"336401596\"\n",
    "\n",
    "\n",
    "# def push_runner_data():\n",
    "sheet_id = \"1RDIWNLnrMR9SxR6uMxI-BuQlkefXPsGTlaQx2PQ7ENM\"\n",
    "historical_log_gid = \"1508007696\"\n",
    "week_lookup_gid = \"336401596\"\n",
    "prog_gid = 0\n",
    "url = f\"https://docs.google.com/spreadsheets/d/{sheet_id}/export?format=csv&gid=\"\n",
    "\n",
    "pd.set_option(\"display.max_colum\", 50)\n",
    "\n",
    "# Read Historical Data and adding header names\n",
    "\n",
    "new_entry = pd.DataFrame(\n",
    "    {\"TimeStamp\":1, \"Date_of_Activity\":2,\n",
    "        \"Activity\":\"s\",\n",
    "        \"Distance\":2,\n",
    "        \"Pace\":3,\n",
    "        \"Time (moving time)\":\"q\",\n",
    "        \"HR (bpm)\":4,\n",
    "        \"Cadence (steps/min)\":4,\n",
    "        \"RPE (1–10 scale)\":5,\n",
    "        \"Shoe\":\"test\",\n",
    "        \"Remarks\":\"test\",\n",
    "        \"Member Name\":\"test\",\n",
    "    \n",
    "})\n",
    "\n",
    "df_week_lookup = pd.read_csv(f\"{url}{week_lookup_gid}\", header=None, skiprows=1)\n",
    "\n",
    "new_entry.to_csv(f\"{url}{new_log_gid}\",mode='a', header=False)"
   ]
  },
  {
   "cell_type": "code",
   "execution_count": null,
   "metadata": {},
   "outputs": [
    {
     "name": "stderr",
     "output_type": "stream",
     "text": [
      "C:\\Users\\king.m\\AppData\\Local\\Temp\\ipykernel_163784\\1818599006.py:13: UserWarning: Could not infer format, so each element will be parsed individually, falling back to `dateutil`. To ensure parsing is consistent and as-expected, please specify a format.\n",
      "  df[\"Date_of_Activity\"] = pd.to_datetime(df[\"Date_of_Activity\"], errors=\"coerce\")\n"
     ]
    }
   ],
   "source": [
    "\n",
    "######DATA CLEANUP######\n",
    "df_week_lookup = pd.read_csv(f\"{url}{week_lookup_gid}\", header=None, skiprows=1)\n",
    "\n",
    "# filter only first 3 columns\n",
    "df2 = df_week_lookup[[0, 1, 2]].copy()\n",
    "# rename columns\n",
    "df2.columns = [\"Date\", \"Week\", \"Scheduled_Activity\"]\n",
    "\n",
    "# clean data columns used for calculations\n",
    "df2[\"Date\"] = pd.to_datetime(df2[\"Date\"])\n",
    "\n",
    "# cleanup main df\n",
    "df[\"Date_of_Activity\"] = pd.to_datetime(df[\"Date_of_Activity\"], errors=\"coerce\")\n",
    "df[\"Pace\"] = pd.to_timedelta(df[\"Pace\"])\n",
    "df[\"Distance\"] = pd.to_numeric(df[\"Distance\"])\n",
    "\n",
    "# lookup of weekname\n",
    "df = df.merge(df2, left_on=\"Date_of_Activity\", right_on=\"Date\", how=\"left\")\n",
    "# Apply to column\n",
    "\n",
    "# CALCULATE MOVING TIME\n",
    "df[\"Moving_Time\"] = df[\"Pace\"] * df[\"Distance\"]\n",
    "\n",
    "\n",
    "\n",
    "\n",
    "# return pd.DataFrame(df)"
   ]
  },
  {
   "cell_type": "markdown",
   "metadata": {},
   "source": [
    "# new 06102025\n",
    "\n",
    "### use google sheet api instead and using st.connections()"
   ]
  },
  {
   "cell_type": "code",
   "execution_count": null,
   "metadata": {},
   "outputs": [
    {
     "name": "stdout",
     "output_type": "stream",
     "text": [
      "  TimeStamp Date_of_Activity          Activity Distance     Pace  \\\n",
      "0  5/5/2025           5/5/25  30 Mins Easy Run     3.82  0:09:14   \n",
      "1  5/6/2025           5/5/25  30 Mins Easy Run        3  0:08:44   \n",
      "2  5/6/2025           5/6/25  30 Mins Easy Run      3.7  0:08:16   \n",
      "3  5/8/2025           5/6/25  20 Mins Easy Run     2.43  0:08:24   \n",
      "4  5/8/2025           5/7/25              Rest                     \n",
      "\n",
      "  Time (moving time) HR (bpm) Cadence (steps/min) RPE (1–10 scale)  \\\n",
      "0                         122                 160                3   \n",
      "1                                                                1   \n",
      "2                         133                 165                5   \n",
      "3                                                                2   \n",
      "4                                                                1   \n",
      "\n",
      "                         Shoe Remarks Member Name  \n",
      "0              Nike Winflo 10                Aiza  \n",
      "1                                        Fraulein  \n",
      "2  Reebok Float Ride Energy 4                Aiza  \n",
      "3                              Puyat!    Fraulein  \n",
      "4                                LG 😜    Fraulein  \n"
     ]
    }
   ],
   "source": [
    "import gspread\n",
    "from oauth2client.service_account import ServiceAccountCredentials\n",
    "import streamlit as st\n",
    "import pandas as pd\n",
    "\n",
    "def get_gsheet_client():\n",
    "    scope = [\n",
    "        \"https://spreadsheets.google.com/feeds\",\n",
    "        \"https://www.googleapis.com/auth/drive\",\n",
    "    ]\n",
    "    creds = ServiceAccountCredentials.from_json_keyfile_dict(st.secrets[\"google_sheets\"], scope)\n",
    "    client = gspread.authorize(creds)\n",
    "    return client\n",
    "\n",
    "# READ HISTORICAL LOG\n",
    "client = get_gsheet_client()\n",
    "sheet = client.open_by_key(\"1RDIWNLnrMR9SxR6uMxI-BuQlkefXPsGTlaQx2PQ7ENM\")\n",
    "#USING for streamlit tab\n",
    "worksheet = sheet.get_worksheet_by_id(1508007696)  # or use get_worksheet_by_id(gid)\n",
    "data = worksheet.get_all_values()\n",
    "\n",
    "# print(pd.DataFrame(data))\n",
    "\n",
    "df = pd.DataFrame(data)\n",
    "\n",
    "#RENAME HEADERS#\n",
    "df.rename(columns={0:\"TimeStamp\", 1:\"Date_of_Activity\", 2:\"Activity\",3:\"Distance\",4:\"Pace\", 5:\"Time (moving time)\", 6:\"HR (bpm)\", 7:\"Cadence (steps/min)\",\n",
    "                   8:\"RPE (1–10 scale)\", 9:\"Shoe\", 10:\"Remarks\", 11:\"Member Name\"}, inplace=True)\n",
    "\n",
    "print(df.head(5))\n"
   ]
  },
  {
   "cell_type": "markdown",
   "metadata": {},
   "source": [
    "### READ WEEK LOOKUP NEW 06102025"
   ]
  },
  {
   "cell_type": "code",
   "execution_count": null,
   "metadata": {},
   "outputs": [
    {
     "data": {
      "text/html": [
       "<div>\n",
       "<style scoped>\n",
       "    .dataframe tbody tr th:only-of-type {\n",
       "        vertical-align: middle;\n",
       "    }\n",
       "\n",
       "    .dataframe tbody tr th {\n",
       "        vertical-align: top;\n",
       "    }\n",
       "\n",
       "    .dataframe thead th {\n",
       "        text-align: right;\n",
       "    }\n",
       "</style>\n",
       "<table border=\"1\" class=\"dataframe\">\n",
       "  <thead>\n",
       "    <tr style=\"text-align: right;\">\n",
       "      <th></th>\n",
       "      <th>Date</th>\n",
       "      <th>Week</th>\n",
       "      <th>Scheduled_Activity</th>\n",
       "    </tr>\n",
       "  </thead>\n",
       "  <tbody>\n",
       "    <tr>\n",
       "      <th>0</th>\n",
       "      <td>5/5/2025 0:00:00</td>\n",
       "      <td>TRANSITION 1</td>\n",
       "      <td>30 Mins Easy Run</td>\n",
       "    </tr>\n",
       "    <tr>\n",
       "      <th>1</th>\n",
       "      <td>5/6/2025 0:00:00</td>\n",
       "      <td>TRANSITION 1</td>\n",
       "      <td>1k @ Zone 3 /Tempo/ Comfortably Hard</td>\n",
       "    </tr>\n",
       "    <tr>\n",
       "      <th>2</th>\n",
       "      <td>5/7/2025 0:00:00</td>\n",
       "      <td>TRANSITION 1</td>\n",
       "      <td>Rest</td>\n",
       "    </tr>\n",
       "    <tr>\n",
       "      <th>3</th>\n",
       "      <td>5/8/2025 0:00:00</td>\n",
       "      <td>TRANSITION 1</td>\n",
       "      <td>30 Mins Easy Run</td>\n",
       "    </tr>\n",
       "    <tr>\n",
       "      <th>4</th>\n",
       "      <td>5/9/2025 0:00:00</td>\n",
       "      <td>TRANSITION 1</td>\n",
       "      <td>Rest</td>\n",
       "    </tr>\n",
       "  </tbody>\n",
       "</table>\n",
       "</div>"
      ],
      "text/plain": [
       "               Date          Week                    Scheduled_Activity\n",
       "0  5/5/2025 0:00:00  TRANSITION 1                      30 Mins Easy Run\n",
       "1  5/6/2025 0:00:00  TRANSITION 1  1k @ Zone 3 /Tempo/ Comfortably Hard\n",
       "2  5/7/2025 0:00:00  TRANSITION 1                                  Rest\n",
       "3  5/8/2025 0:00:00  TRANSITION 1                      30 Mins Easy Run\n",
       "4  5/9/2025 0:00:00  TRANSITION 1                                  Rest"
      ]
     },
     "execution_count": 67,
     "metadata": {},
     "output_type": "execute_result"
    }
   ],
   "source": [
    "client = get_gsheet_client()\n",
    "sheet = client.open_by_key(\"1RDIWNLnrMR9SxR6uMxI-BuQlkefXPsGTlaQx2PQ7ENM\")\n",
    "\n",
    "week_lookup_worksheet = sheet.get_worksheet_by_id(336401596)  # or use get_worksheet_by_id(gid)\n",
    "week_lookup_data = week_lookup_worksheet.get_all_records()\n",
    "df2 = pd.DataFrame(week_lookup_data)\n",
    "\n",
    "\n",
    "\n",
    "# filter only first 3 columns\n",
    "df2 = df2.iloc[:,0:3]\n",
    "# rename columns\n",
    "df2.rename (columns= {\"Dates\":\"Date\",\"WEEK\":\"Week\", \"Activity\":\"Scheduled_Activity\"}, inplace = True)\n",
    "\n",
    "df2.head()\n",
    "# return pd.DataFrame(df)\n"
   ]
  },
  {
   "cell_type": "code",
   "execution_count": null,
   "metadata": {},
   "outputs": [
    {
     "name": "stdout",
     "output_type": "stream",
     "text": [
      "  TimeStamp Date_of_Activity          Activity  Distance            Pace  \\\n",
      "0  5/5/2025       2025-05-05  30 Mins Easy Run      3.82 0 days 00:09:14   \n",
      "1  5/6/2025       2025-05-05  30 Mins Easy Run      3.00 0 days 00:08:44   \n",
      "2  5/6/2025       2025-05-06  30 Mins Easy Run      3.70 0 days 00:08:16   \n",
      "3  5/8/2025       2025-05-06  20 Mins Easy Run      2.43 0 days 00:08:24   \n",
      "4  5/8/2025       2025-05-07              Rest       NaN             NaT   \n",
      "\n",
      "  Time (moving time) HR (bpm) Cadence (steps/min) RPE (1–10 scale)  \\\n",
      "0                         122                 160                3   \n",
      "1                                                                1   \n",
      "2                         133                 165                5   \n",
      "3                                                                2   \n",
      "4                                                                1   \n",
      "\n",
      "                         Shoe Remarks Member Name       Date          Week  \\\n",
      "0              Nike Winflo 10                Aiza 2025-05-05  TRANSITION 1   \n",
      "1                                        Fraulein 2025-05-05  TRANSITION 1   \n",
      "2  Reebok Float Ride Energy 4                Aiza 2025-05-06  TRANSITION 1   \n",
      "3                              Puyat!    Fraulein 2025-05-06  TRANSITION 1   \n",
      "4                                LG 😜    Fraulein 2025-05-07  TRANSITION 1   \n",
      "\n",
      "                     Scheduled_Activity  \n",
      "0                      30 Mins Easy Run  \n",
      "1                      30 Mins Easy Run  \n",
      "2  1k @ Zone 3 /Tempo/ Comfortably Hard  \n",
      "3  1k @ Zone 3 /Tempo/ Comfortably Hard  \n",
      "4                                  Rest  \n"
     ]
    },
    {
     "name": "stderr",
     "output_type": "stream",
     "text": [
      "C:\\Users\\king.m\\AppData\\Local\\Temp\\ipykernel_163784\\3374990238.py:4: UserWarning: Could not infer format, so each element will be parsed individually, falling back to `dateutil`. To ensure parsing is consistent and as-expected, please specify a format.\n",
      "  df[\"Date_of_Activity\"] = pd.to_datetime(df[\"Date_of_Activity\"], errors=\"coerce\")\n"
     ]
    }
   ],
   "source": [
    "\n",
    "\n",
    "\n",
    "df2[\"Date\"] = pd.to_datetime(df2[\"Date\"])\n",
    "df2.dtypes\n",
    "# cleanup main df\n",
    "df[\"Date_of_Activity\"] = pd.to_datetime(df[\"Date_of_Activity\"], errors=\"coerce\")\n",
    "df[\"Pace\"] = pd.to_timedelta(df[\"Pace\"])\n",
    "df[\"Distance\"] = pd.to_numeric(df[\"Distance\"])\n",
    "\n",
    "df.dtypes\n",
    "# lookup of weekname\n",
    "df = df.merge(df2, left_on=\"Date_of_Activity\", right_on=\"Date\", how=\"left\")\n",
    "# Apply to column\n",
    "\n",
    "# CALCULATE MOVING TIME\n",
    "df[\"Moving_Time\"] = df[\"Pace\"] * df[\"Distance\"]\n",
    "print(df.head(5))"
   ]
  },
  {
   "cell_type": "markdown",
   "metadata": {},
   "source": [
    "# PUSH DATA"
   ]
  },
  {
   "cell_type": "code",
   "execution_count": 5,
   "metadata": {},
   "outputs": [
    {
     "ename": "NameError",
     "evalue": "name 'get_gsheet_client' is not defined",
     "output_type": "error",
     "traceback": [
      "\u001b[31m---------------------------------------------------------------------------\u001b[39m",
      "\u001b[31mNameError\u001b[39m                                 Traceback (most recent call last)",
      "\u001b[36mCell\u001b[39m\u001b[36m \u001b[39m\u001b[32mIn[5]\u001b[39m\u001b[32m, line 1\u001b[39m\n\u001b[32m----> \u001b[39m\u001b[32m1\u001b[39m client = \u001b[43mget_gsheet_client\u001b[49m()\n\u001b[32m      2\u001b[39m sheet = client.open_by_key(\u001b[33m\"\u001b[39m\u001b[33m1RDIWNLnrMR9SxR6uMxI-BuQlkefXPsGTlaQx2PQ7ENM\u001b[39m\u001b[33m\"\u001b[39m)\n\u001b[32m      4\u001b[39m newsource_worksheet = sheet.get_worksheet_by_id(\u001b[32m1611308583\u001b[39m)  \u001b[38;5;66;03m# or use get_worksheet_by_id(gid)\u001b[39;00m\n",
      "\u001b[31mNameError\u001b[39m: name 'get_gsheet_client' is not defined"
     ]
    }
   ],
   "source": [
    "client = get_gsheet_client()\n",
    "sheet = client.open_by_key(\"1RDIWNLnrMR9SxR6uMxI-BuQlkefXPsGTlaQx2PQ7ENM\")\n",
    "\n",
    "newsource_worksheet = sheet.get_worksheet_by_id(1611308583)  # or use get_worksheet_by_id(gid)\n",
    "\n",
    "newsource_worksheet.append_row(([\"Scott\", \"2025-06-06\", \"12km\", \"01:05:00\"])\n",
    ")\n",
    "# newsource_data = newsource_worksheet.get_all_records()\n",
    "\n",
    "for row in worksheet.get_all_values():\n",
    "    print(row)\n",
    "\n",
    "# df3 = pd.DataFrame(newsource_worksheet)"
   ]
  },
  {
   "cell_type": "markdown",
   "metadata": {},
   "source": [
    "# updated read_data - historical + newlog"
   ]
  },
  {
   "cell_type": "code",
   "execution_count": 4,
   "metadata": {},
   "outputs": [
    {
     "data": {
      "text/html": [
       "<div>\n",
       "<style scoped>\n",
       "    .dataframe tbody tr th:only-of-type {\n",
       "        vertical-align: middle;\n",
       "    }\n",
       "\n",
       "    .dataframe tbody tr th {\n",
       "        vertical-align: top;\n",
       "    }\n",
       "\n",
       "    .dataframe thead th {\n",
       "        text-align: right;\n",
       "    }\n",
       "</style>\n",
       "<table border=\"1\" class=\"dataframe\">\n",
       "  <thead>\n",
       "    <tr style=\"text-align: right;\">\n",
       "      <th></th>\n",
       "      <th>TimeStamp</th>\n",
       "      <th>Date_of_Activity</th>\n",
       "      <th>Activity</th>\n",
       "      <th>Distance</th>\n",
       "      <th>Pace</th>\n",
       "      <th>HR (bpm)</th>\n",
       "      <th>Cadence (steps/min)</th>\n",
       "      <th>RPE (1–10 scale)</th>\n",
       "      <th>Shoe</th>\n",
       "      <th>Remarks</th>\n",
       "      <th>Member Name</th>\n",
       "    </tr>\n",
       "  </thead>\n",
       "  <tbody>\n",
       "    <tr>\n",
       "      <th>0</th>\n",
       "      <td>2025-05-05</td>\n",
       "      <td>2025-05-05</td>\n",
       "      <td>30 Mins Easy Run</td>\n",
       "      <td>3.82</td>\n",
       "      <td>0:09:14</td>\n",
       "      <td>122</td>\n",
       "      <td>160</td>\n",
       "      <td>3</td>\n",
       "      <td>Nike Winflo 10</td>\n",
       "      <td></td>\n",
       "      <td>Aiza</td>\n",
       "    </tr>\n",
       "    <tr>\n",
       "      <th>1</th>\n",
       "      <td>2025-05-06</td>\n",
       "      <td>2025-05-05</td>\n",
       "      <td>30 Mins Easy Run</td>\n",
       "      <td>3</td>\n",
       "      <td>0:08:44</td>\n",
       "      <td></td>\n",
       "      <td></td>\n",
       "      <td>1</td>\n",
       "      <td></td>\n",
       "      <td></td>\n",
       "      <td>Fraulein</td>\n",
       "    </tr>\n",
       "    <tr>\n",
       "      <th>2</th>\n",
       "      <td>2025-05-06</td>\n",
       "      <td>2025-05-06</td>\n",
       "      <td>30 Mins Easy Run</td>\n",
       "      <td>3.7</td>\n",
       "      <td>0:08:16</td>\n",
       "      <td>133</td>\n",
       "      <td>165</td>\n",
       "      <td>5</td>\n",
       "      <td>Reebok Float Ride Energy 4</td>\n",
       "      <td></td>\n",
       "      <td>Aiza</td>\n",
       "    </tr>\n",
       "    <tr>\n",
       "      <th>3</th>\n",
       "      <td>2025-05-08</td>\n",
       "      <td>2025-05-06</td>\n",
       "      <td>20 Mins Easy Run</td>\n",
       "      <td>2.43</td>\n",
       "      <td>0:08:24</td>\n",
       "      <td></td>\n",
       "      <td></td>\n",
       "      <td>2</td>\n",
       "      <td></td>\n",
       "      <td>Puyat!</td>\n",
       "      <td>Fraulein</td>\n",
       "    </tr>\n",
       "    <tr>\n",
       "      <th>4</th>\n",
       "      <td>2025-05-08</td>\n",
       "      <td>2025-05-07</td>\n",
       "      <td>Rest</td>\n",
       "      <td></td>\n",
       "      <td></td>\n",
       "      <td></td>\n",
       "      <td></td>\n",
       "      <td>1</td>\n",
       "      <td></td>\n",
       "      <td>LG 😜</td>\n",
       "      <td>Fraulein</td>\n",
       "    </tr>\n",
       "    <tr>\n",
       "      <th>...</th>\n",
       "      <td>...</td>\n",
       "      <td>...</td>\n",
       "      <td>...</td>\n",
       "      <td>...</td>\n",
       "      <td>...</td>\n",
       "      <td>...</td>\n",
       "      <td>...</td>\n",
       "      <td>...</td>\n",
       "      <td>...</td>\n",
       "      <td>...</td>\n",
       "      <td>...</td>\n",
       "    </tr>\n",
       "    <tr>\n",
       "      <th>129</th>\n",
       "      <td>2025-06-11</td>\n",
       "      <td>2025-06-11</td>\n",
       "      <td>45 Mins Easy Run</td>\n",
       "      <td>6.36</td>\n",
       "      <td>0:06:46</td>\n",
       "      <td>128</td>\n",
       "      <td>164</td>\n",
       "      <td>3</td>\n",
       "      <td>Novablast 5</td>\n",
       "      <td>trying to feel cadence (lloyd can do 170 in 7m...</td>\n",
       "      <td>Scott</td>\n",
       "    </tr>\n",
       "    <tr>\n",
       "      <th>130</th>\n",
       "      <td>2025-06-11</td>\n",
       "      <td>2025-06-10</td>\n",
       "      <td>Strength Training</td>\n",
       "      <td></td>\n",
       "      <td></td>\n",
       "      <td>106</td>\n",
       "      <td></td>\n",
       "      <td>7</td>\n",
       "      <td></td>\n",
       "      <td>buhat tuesday, umuulan kasi, lowerbody focused...</td>\n",
       "      <td>Scott</td>\n",
       "    </tr>\n",
       "    <tr>\n",
       "      <th>131</th>\n",
       "      <td>2025-06-12</td>\n",
       "      <td>2025-06-12</td>\n",
       "      <td>2k Tempo</td>\n",
       "      <td>3.18</td>\n",
       "      <td>0:06:20</td>\n",
       "      <td>138</td>\n",
       "      <td>173</td>\n",
       "      <td>7</td>\n",
       "      <td>Nike Winflo 10</td>\n",
       "      <td>My second day of 🩸menstruation. Heavy feeling…...</td>\n",
       "      <td>Aiza</td>\n",
       "    </tr>\n",
       "    <tr>\n",
       "      <th>132</th>\n",
       "      <td>2025-06-12</td>\n",
       "      <td>2025-06-12</td>\n",
       "      <td>40 Mins Easy Run</td>\n",
       "      <td>5</td>\n",
       "      <td>0:08:29</td>\n",
       "      <td>141</td>\n",
       "      <td>161</td>\n",
       "      <td>7</td>\n",
       "      <td>Novablast 4</td>\n",
       "      <td>it’s hard to start today- my body is sore from...</td>\n",
       "      <td>Chona</td>\n",
       "    </tr>\n",
       "    <tr>\n",
       "      <th>133</th>\n",
       "      <td>2025-06-12</td>\n",
       "      <td>2025-06-12</td>\n",
       "      <td>Strength Training</td>\n",
       "      <td></td>\n",
       "      <td></td>\n",
       "      <td>107</td>\n",
       "      <td></td>\n",
       "      <td>7</td>\n",
       "      <td></td>\n",
       "      <td>Buhat daw sakit sa likod. Trying to do buhat t...</td>\n",
       "      <td>Scott</td>\n",
       "    </tr>\n",
       "  </tbody>\n",
       "</table>\n",
       "<p>134 rows × 11 columns</p>\n",
       "</div>"
      ],
      "text/plain": [
       "      TimeStamp Date_of_Activity           Activity Distance     Pace  \\\n",
       "0    2025-05-05       2025-05-05   30 Mins Easy Run     3.82  0:09:14   \n",
       "1    2025-05-06       2025-05-05   30 Mins Easy Run        3  0:08:44   \n",
       "2    2025-05-06       2025-05-06   30 Mins Easy Run      3.7  0:08:16   \n",
       "3    2025-05-08       2025-05-06   20 Mins Easy Run     2.43  0:08:24   \n",
       "4    2025-05-08       2025-05-07               Rest                     \n",
       "..          ...              ...                ...      ...      ...   \n",
       "129  2025-06-11       2025-06-11   45 Mins Easy Run     6.36  0:06:46   \n",
       "130  2025-06-11       2025-06-10  Strength Training                     \n",
       "131  2025-06-12       2025-06-12           2k Tempo     3.18  0:06:20   \n",
       "132  2025-06-12       2025-06-12   40 Mins Easy Run        5  0:08:29   \n",
       "133  2025-06-12       2025-06-12  Strength Training                     \n",
       "\n",
       "    HR (bpm) Cadence (steps/min) RPE (1–10 scale)                        Shoe  \\\n",
       "0        122                 160                3              Nike Winflo 10   \n",
       "1                                               1                               \n",
       "2        133                 165                5  Reebok Float Ride Energy 4   \n",
       "3                                               2                               \n",
       "4                                               1                               \n",
       "..       ...                 ...              ...                         ...   \n",
       "129      128                 164                3                 Novablast 5   \n",
       "130      106                                    7                               \n",
       "131      138                 173                7              Nike Winflo 10   \n",
       "132      141                 161                7                 Novablast 4   \n",
       "133      107                                    7                               \n",
       "\n",
       "                                               Remarks Member Name  \n",
       "0                                                             Aiza  \n",
       "1                                                         Fraulein  \n",
       "2                                                             Aiza  \n",
       "3                                               Puyat!    Fraulein  \n",
       "4                                                 LG 😜    Fraulein  \n",
       "..                                                 ...         ...  \n",
       "129  trying to feel cadence (lloyd can do 170 in 7m...       Scott  \n",
       "130  buhat tuesday, umuulan kasi, lowerbody focused...       Scott  \n",
       "131  My second day of 🩸menstruation. Heavy feeling…...        Aiza  \n",
       "132  it’s hard to start today- my body is sore from...       Chona  \n",
       "133  Buhat daw sakit sa likod. Trying to do buhat t...       Scott  \n",
       "\n",
       "[134 rows x 11 columns]"
      ]
     },
     "execution_count": 4,
     "metadata": {},
     "output_type": "execute_result"
    }
   ],
   "source": [
    "import gspread\n",
    "from oauth2client.service_account import ServiceAccountCredentials\n",
    "import streamlit as st\n",
    "import pandas as pd\n",
    "from datetime import datetime\n",
    "\n",
    "def get_gsheet_client():\n",
    "    scope = [\n",
    "        \"https://spreadsheets.google.com/feeds\",\n",
    "        \"https://www.googleapis.com/auth/drive\",\n",
    "    ]\n",
    "    creds = ServiceAccountCredentials.from_json_keyfile_dict(st.secrets[\"google_sheets\"], scope)\n",
    "    client = gspread.authorize(creds)\n",
    "    return client\n",
    "\n",
    "client = get_gsheet_client()\n",
    "sheet = client.open_by_key(\"1RDIWNLnrMR9SxR6uMxI-BuQlkefXPsGTlaQx2PQ7ENM\")\n",
    "# USING \"for streamlit\" tab - for historical\n",
    "worksheet = sheet.get_worksheet_by_id(1508007696)  # or use get_worksheet_by_id(gid)\n",
    "data = worksheet.get_all_values()\n",
    "\n",
    "df = pd.DataFrame(data)\n",
    "\n",
    "# RENAME HEADERS#\n",
    "df.rename(\n",
    "    columns={\n",
    "        0: \"TimeStamp\",\n",
    "        1: \"Date_of_Activity\",\n",
    "        2: \"Activity\",\n",
    "        3: \"Distance\",\n",
    "        4: \"Pace\",\n",
    "        5: \"HR (bpm)\",\n",
    "        6: \"Cadence (steps/min)\",\n",
    "        7: \"RPE (1–10 scale)\",\n",
    "        8: \"Shoe\",\n",
    "        9: \"Remarks\",\n",
    "        10: \"Member Name\",\n",
    "    },\n",
    "    inplace=True,\n",
    ")\n",
    "\n",
    "#######DATA CLEANUP######\n",
    "\n",
    "# WEEK LOOKUP\n",
    "client = get_gsheet_client()\n",
    "sheet = client.open_by_key(\"1RDIWNLnrMR9SxR6uMxI-BuQlkefXPsGTlaQx2PQ7ENM\")\n",
    "week_lookup_worksheet = sheet.get_worksheet_by_id(\n",
    "    336401596\n",
    ")  # or use get_worksheet_by_id(gid)\n",
    "week_lookup_data = week_lookup_worksheet.get_all_records()\n",
    "\n",
    "# streamlit_new_source - for new logs\n",
    "newsource_worksheet = sheet.get_worksheet_by_id(1611308583)\n",
    "new_source_data = newsource_worksheet.get_all_records()\n",
    "\n",
    "################################################################\n",
    "df2 = pd.DataFrame(week_lookup_data)\n",
    "df3 = pd.DataFrame(new_source_data)\n",
    "# df3[\"Pace\"] = pd.to_timedelta(df3[\"Pace\"])\n",
    "# df3[\"Date_of_Activity\"] = pd.to_datetime(df3[\"Date_of_Activity\"], errors=\"coerce\")\n",
    "\n",
    "\n",
    "# CONCAT HISTORICAL AND NEWLOG\n",
    "df = pd.concat([df, df3], ignore_index=True)\n",
    "\n",
    "df\n"
   ]
  },
  {
   "cell_type": "code",
   "execution_count": 5,
   "metadata": {},
   "outputs": [
    {
     "data": {
      "text/html": [
       "<div>\n",
       "<style scoped>\n",
       "    .dataframe tbody tr th:only-of-type {\n",
       "        vertical-align: middle;\n",
       "    }\n",
       "\n",
       "    .dataframe tbody tr th {\n",
       "        vertical-align: top;\n",
       "    }\n",
       "\n",
       "    .dataframe thead th {\n",
       "        text-align: right;\n",
       "    }\n",
       "</style>\n",
       "<table border=\"1\" class=\"dataframe\">\n",
       "  <thead>\n",
       "    <tr style=\"text-align: right;\">\n",
       "      <th></th>\n",
       "      <th>TimeStamp</th>\n",
       "      <th>Date_of_Activity</th>\n",
       "      <th>Activity</th>\n",
       "      <th>Distance</th>\n",
       "      <th>Pace</th>\n",
       "      <th>HR (bpm)</th>\n",
       "      <th>Cadence (steps/min)</th>\n",
       "      <th>RPE (1–10 scale)</th>\n",
       "      <th>Shoe</th>\n",
       "      <th>Remarks</th>\n",
       "      <th>Member Name</th>\n",
       "    </tr>\n",
       "  </thead>\n",
       "  <tbody>\n",
       "    <tr>\n",
       "      <th>0</th>\n",
       "      <td>2025-05-05</td>\n",
       "      <td>2025-05-05</td>\n",
       "      <td>30 Mins Easy Run</td>\n",
       "      <td>3.82</td>\n",
       "      <td>0:09:14</td>\n",
       "      <td>122</td>\n",
       "      <td>160</td>\n",
       "      <td>3</td>\n",
       "      <td>Nike Winflo 10</td>\n",
       "      <td></td>\n",
       "      <td>Aiza</td>\n",
       "    </tr>\n",
       "    <tr>\n",
       "      <th>1</th>\n",
       "      <td>2025-05-06</td>\n",
       "      <td>2025-05-05</td>\n",
       "      <td>30 Mins Easy Run</td>\n",
       "      <td>3.00</td>\n",
       "      <td>0:08:44</td>\n",
       "      <td></td>\n",
       "      <td></td>\n",
       "      <td>1</td>\n",
       "      <td></td>\n",
       "      <td></td>\n",
       "      <td>Fraulein</td>\n",
       "    </tr>\n",
       "    <tr>\n",
       "      <th>2</th>\n",
       "      <td>2025-05-06</td>\n",
       "      <td>2025-05-06</td>\n",
       "      <td>30 Mins Easy Run</td>\n",
       "      <td>3.70</td>\n",
       "      <td>0:08:16</td>\n",
       "      <td>133</td>\n",
       "      <td>165</td>\n",
       "      <td>5</td>\n",
       "      <td>Reebok Float Ride Energy 4</td>\n",
       "      <td></td>\n",
       "      <td>Aiza</td>\n",
       "    </tr>\n",
       "    <tr>\n",
       "      <th>3</th>\n",
       "      <td>2025-05-08</td>\n",
       "      <td>2025-05-06</td>\n",
       "      <td>20 Mins Easy Run</td>\n",
       "      <td>2.43</td>\n",
       "      <td>0:08:24</td>\n",
       "      <td></td>\n",
       "      <td></td>\n",
       "      <td>2</td>\n",
       "      <td></td>\n",
       "      <td>Puyat!</td>\n",
       "      <td>Fraulein</td>\n",
       "    </tr>\n",
       "    <tr>\n",
       "      <th>4</th>\n",
       "      <td>2025-05-08</td>\n",
       "      <td>2025-05-07</td>\n",
       "      <td>Rest</td>\n",
       "      <td>NaN</td>\n",
       "      <td></td>\n",
       "      <td></td>\n",
       "      <td></td>\n",
       "      <td>1</td>\n",
       "      <td></td>\n",
       "      <td>LG 😜</td>\n",
       "      <td>Fraulein</td>\n",
       "    </tr>\n",
       "    <tr>\n",
       "      <th>...</th>\n",
       "      <td>...</td>\n",
       "      <td>...</td>\n",
       "      <td>...</td>\n",
       "      <td>...</td>\n",
       "      <td>...</td>\n",
       "      <td>...</td>\n",
       "      <td>...</td>\n",
       "      <td>...</td>\n",
       "      <td>...</td>\n",
       "      <td>...</td>\n",
       "      <td>...</td>\n",
       "    </tr>\n",
       "    <tr>\n",
       "      <th>129</th>\n",
       "      <td>2025-06-11</td>\n",
       "      <td>2025-06-11</td>\n",
       "      <td>45 Mins Easy Run</td>\n",
       "      <td>6.36</td>\n",
       "      <td>0:06:46</td>\n",
       "      <td>128</td>\n",
       "      <td>164</td>\n",
       "      <td>3</td>\n",
       "      <td>Novablast 5</td>\n",
       "      <td>trying to feel cadence (lloyd can do 170 in 7m...</td>\n",
       "      <td>Scott</td>\n",
       "    </tr>\n",
       "    <tr>\n",
       "      <th>130</th>\n",
       "      <td>2025-06-11</td>\n",
       "      <td>2025-06-10</td>\n",
       "      <td>Strength Training</td>\n",
       "      <td>NaN</td>\n",
       "      <td></td>\n",
       "      <td>106</td>\n",
       "      <td></td>\n",
       "      <td>7</td>\n",
       "      <td></td>\n",
       "      <td>buhat tuesday, umuulan kasi, lowerbody focused...</td>\n",
       "      <td>Scott</td>\n",
       "    </tr>\n",
       "    <tr>\n",
       "      <th>131</th>\n",
       "      <td>2025-06-12</td>\n",
       "      <td>2025-06-12</td>\n",
       "      <td>2k Tempo</td>\n",
       "      <td>3.18</td>\n",
       "      <td>0:06:20</td>\n",
       "      <td>138</td>\n",
       "      <td>173</td>\n",
       "      <td>7</td>\n",
       "      <td>Nike Winflo 10</td>\n",
       "      <td>My second day of 🩸menstruation. Heavy feeling…...</td>\n",
       "      <td>Aiza</td>\n",
       "    </tr>\n",
       "    <tr>\n",
       "      <th>132</th>\n",
       "      <td>2025-06-12</td>\n",
       "      <td>2025-06-12</td>\n",
       "      <td>40 Mins Easy Run</td>\n",
       "      <td>5.00</td>\n",
       "      <td>0:08:29</td>\n",
       "      <td>141</td>\n",
       "      <td>161</td>\n",
       "      <td>7</td>\n",
       "      <td>Novablast 4</td>\n",
       "      <td>it’s hard to start today- my body is sore from...</td>\n",
       "      <td>Chona</td>\n",
       "    </tr>\n",
       "    <tr>\n",
       "      <th>133</th>\n",
       "      <td>2025-06-12</td>\n",
       "      <td>2025-06-12</td>\n",
       "      <td>Strength Training</td>\n",
       "      <td>NaN</td>\n",
       "      <td></td>\n",
       "      <td>107</td>\n",
       "      <td></td>\n",
       "      <td>7</td>\n",
       "      <td></td>\n",
       "      <td>Buhat daw sakit sa likod. Trying to do buhat t...</td>\n",
       "      <td>Scott</td>\n",
       "    </tr>\n",
       "  </tbody>\n",
       "</table>\n",
       "<p>134 rows × 11 columns</p>\n",
       "</div>"
      ],
      "text/plain": [
       "      TimeStamp Date_of_Activity           Activity  Distance     Pace  \\\n",
       "0    2025-05-05       2025-05-05   30 Mins Easy Run      3.82  0:09:14   \n",
       "1    2025-05-06       2025-05-05   30 Mins Easy Run      3.00  0:08:44   \n",
       "2    2025-05-06       2025-05-06   30 Mins Easy Run      3.70  0:08:16   \n",
       "3    2025-05-08       2025-05-06   20 Mins Easy Run      2.43  0:08:24   \n",
       "4    2025-05-08       2025-05-07               Rest       NaN            \n",
       "..          ...              ...                ...       ...      ...   \n",
       "129  2025-06-11       2025-06-11   45 Mins Easy Run      6.36  0:06:46   \n",
       "130  2025-06-11       2025-06-10  Strength Training       NaN            \n",
       "131  2025-06-12       2025-06-12           2k Tempo      3.18  0:06:20   \n",
       "132  2025-06-12       2025-06-12   40 Mins Easy Run      5.00  0:08:29   \n",
       "133  2025-06-12       2025-06-12  Strength Training       NaN            \n",
       "\n",
       "    HR (bpm) Cadence (steps/min) RPE (1–10 scale)                        Shoe  \\\n",
       "0        122                 160                3              Nike Winflo 10   \n",
       "1                                               1                               \n",
       "2        133                 165                5  Reebok Float Ride Energy 4   \n",
       "3                                               2                               \n",
       "4                                               1                               \n",
       "..       ...                 ...              ...                         ...   \n",
       "129      128                 164                3                 Novablast 5   \n",
       "130      106                                    7                               \n",
       "131      138                 173                7              Nike Winflo 10   \n",
       "132      141                 161                7                 Novablast 4   \n",
       "133      107                                    7                               \n",
       "\n",
       "                                               Remarks Member Name  \n",
       "0                                                             Aiza  \n",
       "1                                                         Fraulein  \n",
       "2                                                             Aiza  \n",
       "3                                               Puyat!    Fraulein  \n",
       "4                                                 LG 😜    Fraulein  \n",
       "..                                                 ...         ...  \n",
       "129  trying to feel cadence (lloyd can do 170 in 7m...       Scott  \n",
       "130  buhat tuesday, umuulan kasi, lowerbody focused...       Scott  \n",
       "131  My second day of 🩸menstruation. Heavy feeling…...        Aiza  \n",
       "132  it’s hard to start today- my body is sore from...       Chona  \n",
       "133  Buhat daw sakit sa likod. Trying to do buhat t...       Scott  \n",
       "\n",
       "[134 rows x 11 columns]"
      ]
     },
     "execution_count": 5,
     "metadata": {},
     "output_type": "execute_result"
    }
   ],
   "source": [
    "\n",
    "df[\"Date_of_Activity\"] = pd.to_datetime(df[\"Date_of_Activity\"], errors=\"coerce\")\n",
    "df[\"Distance\"] = pd.to_numeric(df[\"Distance\"])\n",
    "\n",
    "df\n"
   ]
  },
  {
   "cell_type": "code",
   "execution_count": 57,
   "metadata": {},
   "outputs": [],
   "source": [
    "\n",
    "# filter only first 3 columns\n",
    "df2 = df2.iloc[:, 0:3]\n",
    "# rename columns\n",
    "df2.rename(\n",
    "    columns={\"Dates\": \"Date\", \"WEEK\": \"Week\", \"Activity\": \"Scheduled_Activity\"},\n",
    "    inplace=True,\n",
    ")\n",
    "\n",
    "df2[\"Date\"] = pd.to_datetime(df2[\"Date\"])\n",
    "\n",
    "# CONCAT HISTORICAL AND NEWLOG\n",
    "# df = pd.concat([df, df3], ignore_index=True)\n",
    "# cleanup main df\n",
    "df[\"Date_of_Activity\"] = pd.to_datetime(df[\"Date_of_Activity\"], errors=\"coerce\")\n",
    "df[\"Pace\"] = pd.to_timedelta(df[\"Pace\"])\n",
    "df[\"Distance\"] = pd.to_numeric(df[\"Distance\"])\n",
    "\n",
    "# lookup of weekname\n",
    "df = df.merge(df2, left_on=\"Date_of_Activity\", right_on=\"Date\", how=\"left\")\n",
    "# Apply to column\n",
    "\n",
    "# CALCULATE MOVING TIME\n",
    "df[\"Moving_Time\"] = df[\"Pace\"] * df[\"Distance\"]"
   ]
  },
  {
   "cell_type": "code",
   "execution_count": null,
   "metadata": {},
   "outputs": [
    {
     "name": "stdout",
     "output_type": "stream",
     "text": [
      "0 days 00:09:07.651785714\n",
      "09:07\n"
     ]
    }
   ],
   "source": [
    "import datetime\n",
    "pace = df[\"Pace\"] \n",
    "avg_pace=pace.mean()\n",
    "formatted_avg_pace = f\"{int(avg_pace.total_seconds() // 60):02d}:{int(avg_pace.total_seconds() % 60):02d}\"\n",
    "\n",
    "\n",
    "\n",
    "print(avg_pace)\n",
    "print(formatted_avg_pace)\n"
   ]
  },
  {
   "cell_type": "code",
   "execution_count": 1,
   "metadata": {},
   "outputs": [
    {
     "ename": "NameError",
     "evalue": "name 'df' is not defined",
     "output_type": "error",
     "traceback": [
      "\u001b[31m---------------------------------------------------------------------------\u001b[39m",
      "\u001b[31mNameError\u001b[39m                                 Traceback (most recent call last)",
      "\u001b[36mCell\u001b[39m\u001b[36m \u001b[39m\u001b[32mIn[1]\u001b[39m\u001b[32m, line 2\u001b[39m\n\u001b[32m      1\u001b[39m \u001b[38;5;28;01mimport\u001b[39;00m\u001b[38;5;250m \u001b[39m\u001b[34;01mdatetime\u001b[39;00m\n\u001b[32m----> \u001b[39m\u001b[32m2\u001b[39m mt = \u001b[43mdf\u001b[49m[\u001b[33m\"\u001b[39m\u001b[33mMoving_Time\u001b[39m\u001b[33m\"\u001b[39m] \n\u001b[32m      3\u001b[39m sum_mt=mt.sum()\n\u001b[32m      4\u001b[39m formatted_avg_pace = \u001b[33mf\u001b[39m\u001b[33m\"\u001b[39m\u001b[38;5;132;01m{\u001b[39;00m\u001b[38;5;28mint\u001b[39m(avg_pace.total_seconds()\u001b[38;5;250m \u001b[39m//\u001b[38;5;250m \u001b[39m\u001b[32m60\u001b[39m)\u001b[38;5;132;01m:\u001b[39;00m\u001b[33m02d\u001b[39m\u001b[38;5;132;01m}\u001b[39;00m\u001b[33m:\u001b[39m\u001b[38;5;132;01m{\u001b[39;00m\u001b[38;5;28mint\u001b[39m(avg_pace.total_seconds()\u001b[38;5;250m \u001b[39m%\u001b[38;5;250m \u001b[39m\u001b[32m60\u001b[39m)\u001b[38;5;132;01m:\u001b[39;00m\u001b[33m02d\u001b[39m\u001b[38;5;132;01m}\u001b[39;00m\u001b[33m\"\u001b[39m\n",
      "\u001b[31mNameError\u001b[39m: name 'df' is not defined"
     ]
    }
   ],
   "source": [
    "import datetime\n",
    "mt = df[\"Moving_Time\"] \n",
    "sum_mt=mt.sum()\n",
    "formatted_avg_pace = f\"{int(avg_pace.total_seconds() // 60):02d}:{int(avg_pace.total_seconds() % 60):02d}\"\n",
    "\n",
    "\n",
    "\n",
    "print(sum_mt)\n",
    "\n"
   ]
  },
  {
   "cell_type": "code",
   "execution_count": 2,
   "metadata": {},
   "outputs": [
    {
     "data": {
      "application/vnd.plotly.v1+json": {
       "config": {
        "plotlyServerURL": "https://plot.ly"
       },
       "data": [
        {
         "name": "Bar Chart",
         "type": "bar",
         "x": [
          1,
          2,
          3,
          4,
          5
         ],
         "xaxis": "x",
         "y": [
          10,
          15,
          13,
          17,
          20
         ],
         "yaxis": "y"
        },
        {
         "name": "Line Chart",
         "type": "scatter",
         "x": [
          1,
          2,
          3,
          4,
          5
         ],
         "xaxis": "x",
         "y": [
          2,
          4,
          3,
          5,
          7
         ],
         "yaxis": "y2"
        }
       ],
       "layout": {
        "template": {
         "data": {
          "bar": [
           {
            "error_x": {
             "color": "#2a3f5f"
            },
            "error_y": {
             "color": "#2a3f5f"
            },
            "marker": {
             "line": {
              "color": "#E5ECF6",
              "width": 0.5
             },
             "pattern": {
              "fillmode": "overlay",
              "size": 10,
              "solidity": 0.2
             }
            },
            "type": "bar"
           }
          ],
          "barpolar": [
           {
            "marker": {
             "line": {
              "color": "#E5ECF6",
              "width": 0.5
             },
             "pattern": {
              "fillmode": "overlay",
              "size": 10,
              "solidity": 0.2
             }
            },
            "type": "barpolar"
           }
          ],
          "carpet": [
           {
            "aaxis": {
             "endlinecolor": "#2a3f5f",
             "gridcolor": "white",
             "linecolor": "white",
             "minorgridcolor": "white",
             "startlinecolor": "#2a3f5f"
            },
            "baxis": {
             "endlinecolor": "#2a3f5f",
             "gridcolor": "white",
             "linecolor": "white",
             "minorgridcolor": "white",
             "startlinecolor": "#2a3f5f"
            },
            "type": "carpet"
           }
          ],
          "choropleth": [
           {
            "colorbar": {
             "outlinewidth": 0,
             "ticks": ""
            },
            "type": "choropleth"
           }
          ],
          "contour": [
           {
            "colorbar": {
             "outlinewidth": 0,
             "ticks": ""
            },
            "colorscale": [
             [
              0,
              "#0d0887"
             ],
             [
              0.1111111111111111,
              "#46039f"
             ],
             [
              0.2222222222222222,
              "#7201a8"
             ],
             [
              0.3333333333333333,
              "#9c179e"
             ],
             [
              0.4444444444444444,
              "#bd3786"
             ],
             [
              0.5555555555555556,
              "#d8576b"
             ],
             [
              0.6666666666666666,
              "#ed7953"
             ],
             [
              0.7777777777777778,
              "#fb9f3a"
             ],
             [
              0.8888888888888888,
              "#fdca26"
             ],
             [
              1,
              "#f0f921"
             ]
            ],
            "type": "contour"
           }
          ],
          "contourcarpet": [
           {
            "colorbar": {
             "outlinewidth": 0,
             "ticks": ""
            },
            "type": "contourcarpet"
           }
          ],
          "heatmap": [
           {
            "colorbar": {
             "outlinewidth": 0,
             "ticks": ""
            },
            "colorscale": [
             [
              0,
              "#0d0887"
             ],
             [
              0.1111111111111111,
              "#46039f"
             ],
             [
              0.2222222222222222,
              "#7201a8"
             ],
             [
              0.3333333333333333,
              "#9c179e"
             ],
             [
              0.4444444444444444,
              "#bd3786"
             ],
             [
              0.5555555555555556,
              "#d8576b"
             ],
             [
              0.6666666666666666,
              "#ed7953"
             ],
             [
              0.7777777777777778,
              "#fb9f3a"
             ],
             [
              0.8888888888888888,
              "#fdca26"
             ],
             [
              1,
              "#f0f921"
             ]
            ],
            "type": "heatmap"
           }
          ],
          "histogram": [
           {
            "marker": {
             "pattern": {
              "fillmode": "overlay",
              "size": 10,
              "solidity": 0.2
             }
            },
            "type": "histogram"
           }
          ],
          "histogram2d": [
           {
            "colorbar": {
             "outlinewidth": 0,
             "ticks": ""
            },
            "colorscale": [
             [
              0,
              "#0d0887"
             ],
             [
              0.1111111111111111,
              "#46039f"
             ],
             [
              0.2222222222222222,
              "#7201a8"
             ],
             [
              0.3333333333333333,
              "#9c179e"
             ],
             [
              0.4444444444444444,
              "#bd3786"
             ],
             [
              0.5555555555555556,
              "#d8576b"
             ],
             [
              0.6666666666666666,
              "#ed7953"
             ],
             [
              0.7777777777777778,
              "#fb9f3a"
             ],
             [
              0.8888888888888888,
              "#fdca26"
             ],
             [
              1,
              "#f0f921"
             ]
            ],
            "type": "histogram2d"
           }
          ],
          "histogram2dcontour": [
           {
            "colorbar": {
             "outlinewidth": 0,
             "ticks": ""
            },
            "colorscale": [
             [
              0,
              "#0d0887"
             ],
             [
              0.1111111111111111,
              "#46039f"
             ],
             [
              0.2222222222222222,
              "#7201a8"
             ],
             [
              0.3333333333333333,
              "#9c179e"
             ],
             [
              0.4444444444444444,
              "#bd3786"
             ],
             [
              0.5555555555555556,
              "#d8576b"
             ],
             [
              0.6666666666666666,
              "#ed7953"
             ],
             [
              0.7777777777777778,
              "#fb9f3a"
             ],
             [
              0.8888888888888888,
              "#fdca26"
             ],
             [
              1,
              "#f0f921"
             ]
            ],
            "type": "histogram2dcontour"
           }
          ],
          "mesh3d": [
           {
            "colorbar": {
             "outlinewidth": 0,
             "ticks": ""
            },
            "type": "mesh3d"
           }
          ],
          "parcoords": [
           {
            "line": {
             "colorbar": {
              "outlinewidth": 0,
              "ticks": ""
             }
            },
            "type": "parcoords"
           }
          ],
          "pie": [
           {
            "automargin": true,
            "type": "pie"
           }
          ],
          "scatter": [
           {
            "fillpattern": {
             "fillmode": "overlay",
             "size": 10,
             "solidity": 0.2
            },
            "type": "scatter"
           }
          ],
          "scatter3d": [
           {
            "line": {
             "colorbar": {
              "outlinewidth": 0,
              "ticks": ""
             }
            },
            "marker": {
             "colorbar": {
              "outlinewidth": 0,
              "ticks": ""
             }
            },
            "type": "scatter3d"
           }
          ],
          "scattercarpet": [
           {
            "marker": {
             "colorbar": {
              "outlinewidth": 0,
              "ticks": ""
             }
            },
            "type": "scattercarpet"
           }
          ],
          "scattergeo": [
           {
            "marker": {
             "colorbar": {
              "outlinewidth": 0,
              "ticks": ""
             }
            },
            "type": "scattergeo"
           }
          ],
          "scattergl": [
           {
            "marker": {
             "colorbar": {
              "outlinewidth": 0,
              "ticks": ""
             }
            },
            "type": "scattergl"
           }
          ],
          "scattermap": [
           {
            "marker": {
             "colorbar": {
              "outlinewidth": 0,
              "ticks": ""
             }
            },
            "type": "scattermap"
           }
          ],
          "scattermapbox": [
           {
            "marker": {
             "colorbar": {
              "outlinewidth": 0,
              "ticks": ""
             }
            },
            "type": "scattermapbox"
           }
          ],
          "scatterpolar": [
           {
            "marker": {
             "colorbar": {
              "outlinewidth": 0,
              "ticks": ""
             }
            },
            "type": "scatterpolar"
           }
          ],
          "scatterpolargl": [
           {
            "marker": {
             "colorbar": {
              "outlinewidth": 0,
              "ticks": ""
             }
            },
            "type": "scatterpolargl"
           }
          ],
          "scatterternary": [
           {
            "marker": {
             "colorbar": {
              "outlinewidth": 0,
              "ticks": ""
             }
            },
            "type": "scatterternary"
           }
          ],
          "surface": [
           {
            "colorbar": {
             "outlinewidth": 0,
             "ticks": ""
            },
            "colorscale": [
             [
              0,
              "#0d0887"
             ],
             [
              0.1111111111111111,
              "#46039f"
             ],
             [
              0.2222222222222222,
              "#7201a8"
             ],
             [
              0.3333333333333333,
              "#9c179e"
             ],
             [
              0.4444444444444444,
              "#bd3786"
             ],
             [
              0.5555555555555556,
              "#d8576b"
             ],
             [
              0.6666666666666666,
              "#ed7953"
             ],
             [
              0.7777777777777778,
              "#fb9f3a"
             ],
             [
              0.8888888888888888,
              "#fdca26"
             ],
             [
              1,
              "#f0f921"
             ]
            ],
            "type": "surface"
           }
          ],
          "table": [
           {
            "cells": {
             "fill": {
              "color": "#EBF0F8"
             },
             "line": {
              "color": "white"
             }
            },
            "header": {
             "fill": {
              "color": "#C8D4E3"
             },
             "line": {
              "color": "white"
             }
            },
            "type": "table"
           }
          ]
         },
         "layout": {
          "annotationdefaults": {
           "arrowcolor": "#2a3f5f",
           "arrowhead": 0,
           "arrowwidth": 1
          },
          "autotypenumbers": "strict",
          "coloraxis": {
           "colorbar": {
            "outlinewidth": 0,
            "ticks": ""
           }
          },
          "colorscale": {
           "diverging": [
            [
             0,
             "#8e0152"
            ],
            [
             0.1,
             "#c51b7d"
            ],
            [
             0.2,
             "#de77ae"
            ],
            [
             0.3,
             "#f1b6da"
            ],
            [
             0.4,
             "#fde0ef"
            ],
            [
             0.5,
             "#f7f7f7"
            ],
            [
             0.6,
             "#e6f5d0"
            ],
            [
             0.7,
             "#b8e186"
            ],
            [
             0.8,
             "#7fbc41"
            ],
            [
             0.9,
             "#4d9221"
            ],
            [
             1,
             "#276419"
            ]
           ],
           "sequential": [
            [
             0,
             "#0d0887"
            ],
            [
             0.1111111111111111,
             "#46039f"
            ],
            [
             0.2222222222222222,
             "#7201a8"
            ],
            [
             0.3333333333333333,
             "#9c179e"
            ],
            [
             0.4444444444444444,
             "#bd3786"
            ],
            [
             0.5555555555555556,
             "#d8576b"
            ],
            [
             0.6666666666666666,
             "#ed7953"
            ],
            [
             0.7777777777777778,
             "#fb9f3a"
            ],
            [
             0.8888888888888888,
             "#fdca26"
            ],
            [
             1,
             "#f0f921"
            ]
           ],
           "sequentialminus": [
            [
             0,
             "#0d0887"
            ],
            [
             0.1111111111111111,
             "#46039f"
            ],
            [
             0.2222222222222222,
             "#7201a8"
            ],
            [
             0.3333333333333333,
             "#9c179e"
            ],
            [
             0.4444444444444444,
             "#bd3786"
            ],
            [
             0.5555555555555556,
             "#d8576b"
            ],
            [
             0.6666666666666666,
             "#ed7953"
            ],
            [
             0.7777777777777778,
             "#fb9f3a"
            ],
            [
             0.8888888888888888,
             "#fdca26"
            ],
            [
             1,
             "#f0f921"
            ]
           ]
          },
          "colorway": [
           "#636efa",
           "#EF553B",
           "#00cc96",
           "#ab63fa",
           "#FFA15A",
           "#19d3f3",
           "#FF6692",
           "#B6E880",
           "#FF97FF",
           "#FECB52"
          ],
          "font": {
           "color": "#2a3f5f"
          },
          "geo": {
           "bgcolor": "white",
           "lakecolor": "white",
           "landcolor": "#E5ECF6",
           "showlakes": true,
           "showland": true,
           "subunitcolor": "white"
          },
          "hoverlabel": {
           "align": "left"
          },
          "hovermode": "closest",
          "mapbox": {
           "style": "light"
          },
          "paper_bgcolor": "white",
          "plot_bgcolor": "#E5ECF6",
          "polar": {
           "angularaxis": {
            "gridcolor": "white",
            "linecolor": "white",
            "ticks": ""
           },
           "bgcolor": "#E5ECF6",
           "radialaxis": {
            "gridcolor": "white",
            "linecolor": "white",
            "ticks": ""
           }
          },
          "scene": {
           "xaxis": {
            "backgroundcolor": "#E5ECF6",
            "gridcolor": "white",
            "gridwidth": 2,
            "linecolor": "white",
            "showbackground": true,
            "ticks": "",
            "zerolinecolor": "white"
           },
           "yaxis": {
            "backgroundcolor": "#E5ECF6",
            "gridcolor": "white",
            "gridwidth": 2,
            "linecolor": "white",
            "showbackground": true,
            "ticks": "",
            "zerolinecolor": "white"
           },
           "zaxis": {
            "backgroundcolor": "#E5ECF6",
            "gridcolor": "white",
            "gridwidth": 2,
            "linecolor": "white",
            "showbackground": true,
            "ticks": "",
            "zerolinecolor": "white"
           }
          },
          "shapedefaults": {
           "line": {
            "color": "#2a3f5f"
           }
          },
          "ternary": {
           "aaxis": {
            "gridcolor": "white",
            "linecolor": "white",
            "ticks": ""
           },
           "baxis": {
            "gridcolor": "white",
            "linecolor": "white",
            "ticks": ""
           },
           "bgcolor": "#E5ECF6",
           "caxis": {
            "gridcolor": "white",
            "linecolor": "white",
            "ticks": ""
           }
          },
          "title": {
           "x": 0.05
          },
          "xaxis": {
           "automargin": true,
           "gridcolor": "white",
           "linecolor": "white",
           "ticks": "",
           "title": {
            "standoff": 15
           },
           "zerolinecolor": "white",
           "zerolinewidth": 2
          },
          "yaxis": {
           "automargin": true,
           "gridcolor": "white",
           "linecolor": "white",
           "ticks": "",
           "title": {
            "standoff": 15
           },
           "zerolinecolor": "white",
           "zerolinewidth": 2
          }
         }
        },
        "title": {
         "text": "Combo Chart Example"
        },
        "xaxis": {
         "anchor": "y",
         "domain": [
          0,
          0.94
         ],
         "title": {
          "text": "X Axis"
         }
        },
        "yaxis": {
         "anchor": "x",
         "domain": [
          0,
          1
         ],
         "title": {
          "text": "Bar Y Axis"
         }
        },
        "yaxis2": {
         "anchor": "x",
         "overlaying": "y",
         "side": "right",
         "title": {
          "text": "Line Y Axis"
         }
        }
       }
      }
     },
     "metadata": {},
     "output_type": "display_data"
    }
   ],
   "source": [
    "import plotly.graph_objects as go\n",
    "from plotly.subplots import make_subplots\n",
    "\n",
    "# Sample data\n",
    "x_data = [1, 2, 3, 4, 5]\n",
    "y1_data = [10, 15, 13, 17, 20]  # Bar data\n",
    "y2_data = [2, 4, 3, 5, 7]  # Line data\n",
    "\n",
    "# Create subplots with a secondary Y-axis\n",
    "fig = make_subplots(specs=[[{\"secondary_y\": True}]])\n",
    "\n",
    "# Add bar trace\n",
    "fig.add_trace(go.Bar(x=x_data, y=y1_data, name=\"Bar Chart\"), secondary_y=False)\n",
    "\n",
    "# Add line trace\n",
    "fig.add_trace(go.Scatter(x=x_data, y=y2_data, name=\"Line Chart\"), secondary_y=True)\n",
    "\n",
    "# Update layout\n",
    "fig.update_layout(title=\"Combo Chart Example\")\n",
    "fig.update_xaxes(title_text=\"X Axis\")\n",
    "fig.update_yaxes(title_text=\"Bar Y Axis\", secondary_y=False)\n",
    "fig.update_yaxes(title_text=\"Line Y Axis\", secondary_y=True)\n",
    "\n",
    "# Show the plot\n",
    "fig.show()"
   ]
  },
  {
   "cell_type": "code",
   "execution_count": 8,
   "metadata": {},
   "outputs": [
    {
     "ename": "KeyError",
     "evalue": "'Week'",
     "output_type": "error",
     "traceback": [
      "\u001b[31m---------------------------------------------------------------------------\u001b[39m",
      "\u001b[31mKeyError\u001b[39m                                  Traceback (most recent call last)",
      "\u001b[36mCell\u001b[39m\u001b[36m \u001b[39m\u001b[32mIn[8]\u001b[39m\u001b[32m, line 4\u001b[39m\n\u001b[32m      1\u001b[39m df = df[df[\u001b[33m\"\u001b[39m\u001b[33mDistance\u001b[39m\u001b[33m\"\u001b[39m] > \u001b[32m0\u001b[39m & df[\u001b[33m\"\u001b[39m\u001b[33mDistance\u001b[39m\u001b[33m\"\u001b[39m].notna()]\n\u001b[32m----> \u001b[39m\u001b[32m4\u001b[39m act_date_group = \u001b[43mdf\u001b[49m\u001b[43m.\u001b[49m\u001b[43mgroupby\u001b[49m\u001b[43m(\u001b[49m\u001b[33;43m\"\u001b[39;49m\u001b[33;43mWeek\u001b[39;49m\u001b[33;43m\"\u001b[39;49m\u001b[43m,\u001b[49m\u001b[43m \u001b[49m\u001b[43mas_index\u001b[49m\u001b[43m=\u001b[49m\u001b[38;5;28;43;01mFalse\u001b[39;49;00m\u001b[43m)\u001b[49m\n\u001b[32m      6\u001b[39m line_data = act_date_group[\u001b[33m\"\u001b[39m\u001b[33mDistance\u001b[39m\u001b[33m\"\u001b[39m].sum()\n",
      "\u001b[36mFile \u001b[39m\u001b[32mc:\\Users\\king.m\\AppData\\Local\\Programs\\Python\\Python312\\Lib\\site-packages\\pandas\\core\\frame.py:9190\u001b[39m, in \u001b[36mDataFrame.groupby\u001b[39m\u001b[34m(self, by, axis, level, as_index, sort, group_keys, observed, dropna)\u001b[39m\n\u001b[32m   9187\u001b[39m \u001b[38;5;28;01mif\u001b[39;00m level \u001b[38;5;129;01mis\u001b[39;00m \u001b[38;5;28;01mNone\u001b[39;00m \u001b[38;5;129;01mand\u001b[39;00m by \u001b[38;5;129;01mis\u001b[39;00m \u001b[38;5;28;01mNone\u001b[39;00m:\n\u001b[32m   9188\u001b[39m     \u001b[38;5;28;01mraise\u001b[39;00m \u001b[38;5;167;01mTypeError\u001b[39;00m(\u001b[33m\"\u001b[39m\u001b[33mYou have to supply one of \u001b[39m\u001b[33m'\u001b[39m\u001b[33mby\u001b[39m\u001b[33m'\u001b[39m\u001b[33m and \u001b[39m\u001b[33m'\u001b[39m\u001b[33mlevel\u001b[39m\u001b[33m'\u001b[39m\u001b[33m\"\u001b[39m)\n\u001b[32m-> \u001b[39m\u001b[32m9190\u001b[39m \u001b[38;5;28;01mreturn\u001b[39;00m \u001b[43mDataFrameGroupBy\u001b[49m\u001b[43m(\u001b[49m\n\u001b[32m   9191\u001b[39m \u001b[43m    \u001b[49m\u001b[43mobj\u001b[49m\u001b[43m=\u001b[49m\u001b[38;5;28;43mself\u001b[39;49m\u001b[43m,\u001b[49m\n\u001b[32m   9192\u001b[39m \u001b[43m    \u001b[49m\u001b[43mkeys\u001b[49m\u001b[43m=\u001b[49m\u001b[43mby\u001b[49m\u001b[43m,\u001b[49m\n\u001b[32m   9193\u001b[39m \u001b[43m    \u001b[49m\u001b[43maxis\u001b[49m\u001b[43m=\u001b[49m\u001b[43maxis\u001b[49m\u001b[43m,\u001b[49m\n\u001b[32m   9194\u001b[39m \u001b[43m    \u001b[49m\u001b[43mlevel\u001b[49m\u001b[43m=\u001b[49m\u001b[43mlevel\u001b[49m\u001b[43m,\u001b[49m\n\u001b[32m   9195\u001b[39m \u001b[43m    \u001b[49m\u001b[43mas_index\u001b[49m\u001b[43m=\u001b[49m\u001b[43mas_index\u001b[49m\u001b[43m,\u001b[49m\n\u001b[32m   9196\u001b[39m \u001b[43m    \u001b[49m\u001b[43msort\u001b[49m\u001b[43m=\u001b[49m\u001b[43msort\u001b[49m\u001b[43m,\u001b[49m\n\u001b[32m   9197\u001b[39m \u001b[43m    \u001b[49m\u001b[43mgroup_keys\u001b[49m\u001b[43m=\u001b[49m\u001b[43mgroup_keys\u001b[49m\u001b[43m,\u001b[49m\n\u001b[32m   9198\u001b[39m \u001b[43m    \u001b[49m\u001b[43mobserved\u001b[49m\u001b[43m=\u001b[49m\u001b[43mobserved\u001b[49m\u001b[43m,\u001b[49m\n\u001b[32m   9199\u001b[39m \u001b[43m    \u001b[49m\u001b[43mdropna\u001b[49m\u001b[43m=\u001b[49m\u001b[43mdropna\u001b[49m\u001b[43m,\u001b[49m\n\u001b[32m   9200\u001b[39m \u001b[43m\u001b[49m\u001b[43m)\u001b[49m\n",
      "\u001b[36mFile \u001b[39m\u001b[32mc:\\Users\\king.m\\AppData\\Local\\Programs\\Python\\Python312\\Lib\\site-packages\\pandas\\core\\groupby\\groupby.py:1329\u001b[39m, in \u001b[36mGroupBy.__init__\u001b[39m\u001b[34m(self, obj, keys, axis, level, grouper, exclusions, selection, as_index, sort, group_keys, observed, dropna)\u001b[39m\n\u001b[32m   1326\u001b[39m \u001b[38;5;28mself\u001b[39m.dropna = dropna\n\u001b[32m   1328\u001b[39m \u001b[38;5;28;01mif\u001b[39;00m grouper \u001b[38;5;129;01mis\u001b[39;00m \u001b[38;5;28;01mNone\u001b[39;00m:\n\u001b[32m-> \u001b[39m\u001b[32m1329\u001b[39m     grouper, exclusions, obj = \u001b[43mget_grouper\u001b[49m\u001b[43m(\u001b[49m\n\u001b[32m   1330\u001b[39m \u001b[43m        \u001b[49m\u001b[43mobj\u001b[49m\u001b[43m,\u001b[49m\n\u001b[32m   1331\u001b[39m \u001b[43m        \u001b[49m\u001b[43mkeys\u001b[49m\u001b[43m,\u001b[49m\n\u001b[32m   1332\u001b[39m \u001b[43m        \u001b[49m\u001b[43maxis\u001b[49m\u001b[43m=\u001b[49m\u001b[43maxis\u001b[49m\u001b[43m,\u001b[49m\n\u001b[32m   1333\u001b[39m \u001b[43m        \u001b[49m\u001b[43mlevel\u001b[49m\u001b[43m=\u001b[49m\u001b[43mlevel\u001b[49m\u001b[43m,\u001b[49m\n\u001b[32m   1334\u001b[39m \u001b[43m        \u001b[49m\u001b[43msort\u001b[49m\u001b[43m=\u001b[49m\u001b[43msort\u001b[49m\u001b[43m,\u001b[49m\n\u001b[32m   1335\u001b[39m \u001b[43m        \u001b[49m\u001b[43mobserved\u001b[49m\u001b[43m=\u001b[49m\u001b[38;5;28;43;01mFalse\u001b[39;49;00m\u001b[43m \u001b[49m\u001b[38;5;28;43;01mif\u001b[39;49;00m\u001b[43m \u001b[49m\u001b[43mobserved\u001b[49m\u001b[43m \u001b[49m\u001b[38;5;129;43;01mis\u001b[39;49;00m\u001b[43m \u001b[49m\u001b[43mlib\u001b[49m\u001b[43m.\u001b[49m\u001b[43mno_default\u001b[49m\u001b[43m \u001b[49m\u001b[38;5;28;43;01melse\u001b[39;49;00m\u001b[43m \u001b[49m\u001b[43mobserved\u001b[49m\u001b[43m,\u001b[49m\n\u001b[32m   1336\u001b[39m \u001b[43m        \u001b[49m\u001b[43mdropna\u001b[49m\u001b[43m=\u001b[49m\u001b[38;5;28;43mself\u001b[39;49m\u001b[43m.\u001b[49m\u001b[43mdropna\u001b[49m\u001b[43m,\u001b[49m\n\u001b[32m   1337\u001b[39m \u001b[43m    \u001b[49m\u001b[43m)\u001b[49m\n\u001b[32m   1339\u001b[39m \u001b[38;5;28;01mif\u001b[39;00m observed \u001b[38;5;129;01mis\u001b[39;00m lib.no_default:\n\u001b[32m   1340\u001b[39m     \u001b[38;5;28;01mif\u001b[39;00m \u001b[38;5;28many\u001b[39m(ping._passed_categorical \u001b[38;5;28;01mfor\u001b[39;00m ping \u001b[38;5;129;01min\u001b[39;00m grouper.groupings):\n",
      "\u001b[36mFile \u001b[39m\u001b[32mc:\\Users\\king.m\\AppData\\Local\\Programs\\Python\\Python312\\Lib\\site-packages\\pandas\\core\\groupby\\grouper.py:1043\u001b[39m, in \u001b[36mget_grouper\u001b[39m\u001b[34m(obj, key, axis, level, sort, observed, validate, dropna)\u001b[39m\n\u001b[32m   1041\u001b[39m         in_axis, level, gpr = \u001b[38;5;28;01mFalse\u001b[39;00m, gpr, \u001b[38;5;28;01mNone\u001b[39;00m\n\u001b[32m   1042\u001b[39m     \u001b[38;5;28;01melse\u001b[39;00m:\n\u001b[32m-> \u001b[39m\u001b[32m1043\u001b[39m         \u001b[38;5;28;01mraise\u001b[39;00m \u001b[38;5;167;01mKeyError\u001b[39;00m(gpr)\n\u001b[32m   1044\u001b[39m \u001b[38;5;28;01melif\u001b[39;00m \u001b[38;5;28misinstance\u001b[39m(gpr, Grouper) \u001b[38;5;129;01mand\u001b[39;00m gpr.key \u001b[38;5;129;01mis\u001b[39;00m \u001b[38;5;129;01mnot\u001b[39;00m \u001b[38;5;28;01mNone\u001b[39;00m:\n\u001b[32m   1045\u001b[39m     \u001b[38;5;66;03m# Add key to exclusions\u001b[39;00m\n\u001b[32m   1046\u001b[39m     exclusions.add(gpr.key)\n",
      "\u001b[31mKeyError\u001b[39m: 'Week'"
     ]
    }
   ],
   "source": [
    "\n",
    "df = df[df[\"Distance\"] > 0 & df[\"Distance\"].notna()]\n",
    "\n",
    "\n",
    "act_date_group = df.groupby(\"Week\", as_index=False)\n",
    "\n",
    "line_data = act_date_group[\"Distance\"].sum()\n"
   ]
  },
  {
   "cell_type": "code",
   "execution_count": 6,
   "metadata": {},
   "outputs": [
    {
     "ename": "NameError",
     "evalue": "name 'act_date_group' is not defined",
     "output_type": "error",
     "traceback": [
      "\u001b[31m---------------------------------------------------------------------------\u001b[39m",
      "\u001b[31mNameError\u001b[39m                                 Traceback (most recent call last)",
      "\u001b[36mCell\u001b[39m\u001b[36m \u001b[39m\u001b[32mIn[6]\u001b[39m\u001b[32m, line 10\u001b[39m\n\u001b[32m      6\u001b[39m pio.renderers.default = \u001b[38;5;28;01mNone\u001b[39;00m\n\u001b[32m      8\u001b[39m \u001b[38;5;28;01mfrom\u001b[39;00m\u001b[38;5;250m \u001b[39m\u001b[34;01mplotly\u001b[39;00m\u001b[34;01m.\u001b[39;00m\u001b[34;01m_subplots\u001b[39;00m\u001b[38;5;250m \u001b[39m\u001b[38;5;28;01mimport\u001b[39;00m make_subplots\n\u001b[32m---> \u001b[39m\u001b[32m10\u001b[39m dist_data = \u001b[43mact_date_group\u001b[49m[\u001b[33m\"\u001b[39m\u001b[33mDistance\u001b[39m\u001b[33m\"\u001b[39m].sum()\n\u001b[32m     11\u001b[39m pace_data = act_date_group[\u001b[33m\"\u001b[39m\u001b[33mPace\u001b[39m\u001b[33m\"\u001b[39m].sum()\n\u001b[32m     13\u001b[39m fig = make_subplots(specs=[[{\u001b[33m\"\u001b[39m\u001b[33msecondary_y\u001b[39m\u001b[33m\"\u001b[39m: \u001b[38;5;28;01mTrue\u001b[39;00m}]])\n",
      "\u001b[31mNameError\u001b[39m: name 'act_date_group' is not defined"
     ]
    }
   ],
   "source": [
    "\n",
    "import plotly.express as px\n",
    "import plotly.graph_objects as go\n",
    "\n",
    "import plotly.io as pio\n",
    "\n",
    "pio.renderers.default = None\n",
    "\n",
    "from plotly._subplots import make_subplots\n",
    "\n",
    "dist_data = act_date_group[\"Distance\"].sum()\n",
    "pace_data = act_date_group[\"Pace\"].sum()\n",
    "\n",
    "fig = make_subplots(specs=[[{\"secondary_y\": True}]])\n",
    "\n",
    "# Add bar chart for Distance\n",
    "fig.add_trace(go.Bar(x=df[\"Week\"], y=dist_data, name=\"Distance\"))\n",
    "\n",
    "# Add line chart for Pace\n",
    "fig.add_trace(go.Scatter(x=df[\"Week\"], y=pace_data, name=\"Pace\", yaxis=\"y2\"))\n",
    "\n",
    "# Add second y-axis for Pace\n",
    "fig.update_layout(title=\"Combo Chart Example\")\n",
    "fig.update_xaxes(title_text=\"X Axis\")\n",
    "fig.update_yaxes(title_text=\"Bar Y Axis\", secondary_y=False)\n",
    "fig.update_yaxes(title_text=\"Line Y Axis\", secondary_y=True)\n",
    "\n",
    "fig.show()"
   ]
  },
  {
   "cell_type": "code",
   "execution_count": 1,
   "metadata": {},
   "outputs": [
    {
     "ename": "NameError",
     "evalue": "name 'go' is not defined",
     "output_type": "error",
     "traceback": [
      "\u001b[31m---------------------------------------------------------------------------\u001b[39m",
      "\u001b[31mNameError\u001b[39m                                 Traceback (most recent call last)",
      "\u001b[36mCell\u001b[39m\u001b[36m \u001b[39m\u001b[32mIn[1]\u001b[39m\u001b[32m, line 1\u001b[39m\n\u001b[32m----> \u001b[39m\u001b[32m1\u001b[39m fig = \u001b[43mgo\u001b[49m.Figure(\n\u001b[32m      2\u001b[39m     data=[\n\u001b[32m      3\u001b[39m         go.Scatter(x=[\u001b[32m1\u001b[39m, \u001b[32m2\u001b[39m, \u001b[32m3\u001b[39m], y=[\u001b[32m4\u001b[39m, \u001b[32m5\u001b[39m, \u001b[32m6\u001b[39m], mode=\u001b[33m'\u001b[39m\u001b[33mmarkers+lines\u001b[39m\u001b[33m'\u001b[39m, name=\u001b[33m'\u001b[39m\u001b[33mExample Data\u001b[39m\u001b[33m'\u001b[39m),\n\u001b[32m      4\u001b[39m         go.Bar(x=[\u001b[32m1\u001b[39m, \u001b[32m2\u001b[39m, \u001b[32m3\u001b[39m], y=[\u001b[32m7\u001b[39m, \u001b[32m8\u001b[39m, \u001b[32m9\u001b[39m], name=\u001b[33m'\u001b[39m\u001b[33mExample Bar\u001b[39m\u001b[33m'\u001b[39m)\n\u001b[32m      5\u001b[39m     ],\n\u001b[32m      6\u001b[39m     layout=go.Layout(\n\u001b[32m      7\u001b[39m         title=\u001b[33m'\u001b[39m\u001b[33mExample Plot\u001b[39m\u001b[33m'\u001b[39m,\n\u001b[32m      8\u001b[39m         xaxis=\u001b[38;5;28mdict\u001b[39m(title=\u001b[33m'\u001b[39m\u001b[33mX-axis\u001b[39m\u001b[33m'\u001b[39m),\n\u001b[32m      9\u001b[39m         yaxis=\u001b[38;5;28mdict\u001b[39m(title=\u001b[33m'\u001b[39m\u001b[33mY-axis\u001b[39m\u001b[33m'\u001b[39m)\n\u001b[32m     10\u001b[39m     )\n\u001b[32m     11\u001b[39m )\n\u001b[32m     13\u001b[39m fig.show()\n",
      "\u001b[31mNameError\u001b[39m: name 'go' is not defined"
     ]
    }
   ],
   "source": [
    "fig = go.Figure(\n",
    "    data=[\n",
    "        go.Scatter(x=[1, 2, 3], y=[4, 5, 6], mode='markers+lines', name='Example Data'),\n",
    "        go.Bar(x=[1, 2, 3], y=[7, 8, 9], name='Example Bar')\n",
    "    ],\n",
    "    layout=go.Layout(\n",
    "        title='Example Plot',\n",
    "        xaxis=dict(title='X-axis'),\n",
    "        yaxis=dict(title='Y-axis')\n",
    "    )\n",
    ")\n",
    "\n",
    "fig.show()"
   ]
  },
  {
   "cell_type": "markdown",
   "metadata": {},
   "source": [
    "# dev read data using sample excel"
   ]
  },
  {
   "cell_type": "code",
   "execution_count": 50,
   "metadata": {},
   "outputs": [
    {
     "data": {
      "text/html": [
       "<div>\n",
       "<style scoped>\n",
       "    .dataframe tbody tr th:only-of-type {\n",
       "        vertical-align: middle;\n",
       "    }\n",
       "\n",
       "    .dataframe tbody tr th {\n",
       "        vertical-align: top;\n",
       "    }\n",
       "\n",
       "    .dataframe thead th {\n",
       "        text-align: right;\n",
       "    }\n",
       "</style>\n",
       "<table border=\"1\" class=\"dataframe\">\n",
       "  <thead>\n",
       "    <tr style=\"text-align: right;\">\n",
       "      <th></th>\n",
       "      <th>TimeStamp</th>\n",
       "      <th>Date_of_Activity</th>\n",
       "      <th>Activity</th>\n",
       "      <th>Distance</th>\n",
       "      <th>Pace</th>\n",
       "      <th>HR (bpm)</th>\n",
       "      <th>Cadence (steps/min)</th>\n",
       "      <th>RPE (1–10 scale)</th>\n",
       "      <th>Shoe</th>\n",
       "      <th>Remarks</th>\n",
       "      <th>Member Name</th>\n",
       "      <th>Date</th>\n",
       "      <th>Week</th>\n",
       "      <th>Scheduled_Activity</th>\n",
       "      <th>Moving_Time</th>\n",
       "    </tr>\n",
       "  </thead>\n",
       "  <tbody>\n",
       "    <tr>\n",
       "      <th>0</th>\n",
       "      <td>2025-05-05 00:00:00</td>\n",
       "      <td>2025-05-05</td>\n",
       "      <td>30 Mins Easy Run</td>\n",
       "      <td>3.82</td>\n",
       "      <td>0 days 00:09:14</td>\n",
       "      <td>122</td>\n",
       "      <td>160</td>\n",
       "      <td>3</td>\n",
       "      <td>Nike Winflo 10</td>\n",
       "      <td>0</td>\n",
       "      <td>Aiza</td>\n",
       "      <td>2025-05-05</td>\n",
       "      <td>TRANSITION 1</td>\n",
       "      <td>30 Mins Easy Run</td>\n",
       "      <td>0 days 00:35:16.280000</td>\n",
       "    </tr>\n",
       "    <tr>\n",
       "      <th>1</th>\n",
       "      <td>2025-05-06 10:26:19.498000</td>\n",
       "      <td>2025-05-05</td>\n",
       "      <td>30 Mins Easy Run</td>\n",
       "      <td>3.00</td>\n",
       "      <td>0 days 00:08:44</td>\n",
       "      <td>0</td>\n",
       "      <td>0</td>\n",
       "      <td>1</td>\n",
       "      <td>0</td>\n",
       "      <td>0</td>\n",
       "      <td>Fraulein</td>\n",
       "      <td>2025-05-05</td>\n",
       "      <td>TRANSITION 1</td>\n",
       "      <td>30 Mins Easy Run</td>\n",
       "      <td>0 days 00:26:12</td>\n",
       "    </tr>\n",
       "    <tr>\n",
       "      <th>2</th>\n",
       "      <td>2025-05-06 22:35:29.109000</td>\n",
       "      <td>2025-05-06</td>\n",
       "      <td>30 Mins Easy Run</td>\n",
       "      <td>3.70</td>\n",
       "      <td>0 days 00:08:16</td>\n",
       "      <td>133</td>\n",
       "      <td>165</td>\n",
       "      <td>5</td>\n",
       "      <td>Reebok Float Ride Energy 4</td>\n",
       "      <td>0</td>\n",
       "      <td>Aiza</td>\n",
       "      <td>2025-05-06</td>\n",
       "      <td>TRANSITION 1</td>\n",
       "      <td>1k @ Zone 3 /Tempo/ Comfortably Hard</td>\n",
       "      <td>0 days 00:30:35.200000</td>\n",
       "    </tr>\n",
       "    <tr>\n",
       "      <th>3</th>\n",
       "      <td>2025-05-08 17:45:42.199000</td>\n",
       "      <td>2025-05-06</td>\n",
       "      <td>20 Mins Easy Run</td>\n",
       "      <td>2.43</td>\n",
       "      <td>0 days 00:08:24</td>\n",
       "      <td>0</td>\n",
       "      <td>0</td>\n",
       "      <td>2</td>\n",
       "      <td>0</td>\n",
       "      <td>Puyat!</td>\n",
       "      <td>Fraulein</td>\n",
       "      <td>2025-05-06</td>\n",
       "      <td>TRANSITION 1</td>\n",
       "      <td>1k @ Zone 3 /Tempo/ Comfortably Hard</td>\n",
       "      <td>0 days 00:20:24.720000</td>\n",
       "    </tr>\n",
       "    <tr>\n",
       "      <th>4</th>\n",
       "      <td>2025-05-08 17:46:37.715000</td>\n",
       "      <td>2025-05-07</td>\n",
       "      <td>Rest</td>\n",
       "      <td>0.00</td>\n",
       "      <td>0 days 00:00:00</td>\n",
       "      <td>0</td>\n",
       "      <td>0</td>\n",
       "      <td>1</td>\n",
       "      <td>0</td>\n",
       "      <td>LG 😜</td>\n",
       "      <td>Fraulein</td>\n",
       "      <td>2025-05-07</td>\n",
       "      <td>TRANSITION 1</td>\n",
       "      <td>Rest</td>\n",
       "      <td>0 days 00:00:00</td>\n",
       "    </tr>\n",
       "    <tr>\n",
       "      <th>5</th>\n",
       "      <td>2025-05-08 21:09:33.083000</td>\n",
       "      <td>2025-05-08</td>\n",
       "      <td>30 Mins Easy Run</td>\n",
       "      <td>3.00</td>\n",
       "      <td>0 days 00:09:59</td>\n",
       "      <td>152</td>\n",
       "      <td>154</td>\n",
       "      <td>8</td>\n",
       "      <td>Adidas Adizero SL2</td>\n",
       "      <td>🫠</td>\n",
       "      <td>Maxine</td>\n",
       "      <td>2025-05-08</td>\n",
       "      <td>TRANSITION 1</td>\n",
       "      <td>30 Mins Easy Run</td>\n",
       "      <td>0 days 00:29:57</td>\n",
       "    </tr>\n",
       "    <tr>\n",
       "      <th>6</th>\n",
       "      <td>2025-05-08 21:11:57.337000</td>\n",
       "      <td>2025-05-08</td>\n",
       "      <td>30 Mins Easy Run</td>\n",
       "      <td>3.00</td>\n",
       "      <td>0 days 00:10:00</td>\n",
       "      <td>150</td>\n",
       "      <td>153</td>\n",
       "      <td>6</td>\n",
       "      <td>NB Rebel v3</td>\n",
       "      <td>0</td>\n",
       "      <td>Lead</td>\n",
       "      <td>2025-05-08</td>\n",
       "      <td>TRANSITION 1</td>\n",
       "      <td>30 Mins Easy Run</td>\n",
       "      <td>0 days 00:30:00</td>\n",
       "    </tr>\n",
       "    <tr>\n",
       "      <th>7</th>\n",
       "      <td>2025-05-09 18:20:31.597000</td>\n",
       "      <td>2025-05-08</td>\n",
       "      <td>30 Mins Easy Run</td>\n",
       "      <td>3.04</td>\n",
       "      <td>0 days 00:08:34</td>\n",
       "      <td>0</td>\n",
       "      <td>0</td>\n",
       "      <td>3</td>\n",
       "      <td>0</td>\n",
       "      <td>Sumakit ulit ung tagiliran. At medyo parang na...</td>\n",
       "      <td>Fraulein</td>\n",
       "      <td>2025-05-08</td>\n",
       "      <td>TRANSITION 1</td>\n",
       "      <td>30 Mins Easy Run</td>\n",
       "      <td>0 days 00:26:02.560000</td>\n",
       "    </tr>\n",
       "    <tr>\n",
       "      <th>8</th>\n",
       "      <td>2025-05-10 15:53:19.769000</td>\n",
       "      <td>2025-05-08</td>\n",
       "      <td>30 Mins Easy Run</td>\n",
       "      <td>3.85</td>\n",
       "      <td>0 days 00:09:04</td>\n",
       "      <td>124</td>\n",
       "      <td>163</td>\n",
       "      <td>3</td>\n",
       "      <td>Nike</td>\n",
       "      <td>0</td>\n",
       "      <td>Aiza</td>\n",
       "      <td>2025-05-08</td>\n",
       "      <td>TRANSITION 1</td>\n",
       "      <td>30 Mins Easy Run</td>\n",
       "      <td>0 days 00:34:54.400000</td>\n",
       "    </tr>\n",
       "    <tr>\n",
       "      <th>9</th>\n",
       "      <td>2025-05-10 15:50:06.246000</td>\n",
       "      <td>2025-05-10</td>\n",
       "      <td>5k LSD Road@ Zone 2 Pace</td>\n",
       "      <td>4.56</td>\n",
       "      <td>0 days 00:07:41</td>\n",
       "      <td>131</td>\n",
       "      <td>162</td>\n",
       "      <td>4</td>\n",
       "      <td>Nike</td>\n",
       "      <td>0</td>\n",
       "      <td>Aiza</td>\n",
       "      <td>2025-05-10</td>\n",
       "      <td>TRANSITION 1</td>\n",
       "      <td>5k LSD Road@ Zone 2 Pace</td>\n",
       "      <td>0 days 00:35:02.159999999</td>\n",
       "    </tr>\n",
       "    <tr>\n",
       "      <th>10</th>\n",
       "      <td>2025-05-10 20:03:54.937000</td>\n",
       "      <td>2025-05-10</td>\n",
       "      <td>6k LSD Road@ Zone 2 Pace</td>\n",
       "      <td>6.11</td>\n",
       "      <td>0 days 00:09:08</td>\n",
       "      <td>162</td>\n",
       "      <td>0</td>\n",
       "      <td>7</td>\n",
       "      <td>Adidas Pink</td>\n",
       "      <td>paltos</td>\n",
       "      <td>Chona</td>\n",
       "      <td>2025-05-10</td>\n",
       "      <td>TRANSITION 1</td>\n",
       "      <td>5k LSD Road@ Zone 2 Pace</td>\n",
       "      <td>0 days 00:55:48.280000</td>\n",
       "    </tr>\n",
       "    <tr>\n",
       "      <th>20</th>\n",
       "      <td>2025-05-13 22:36:20</td>\n",
       "      <td>2025-05-10</td>\n",
       "      <td>30 Mins Easy Run</td>\n",
       "      <td>3.81</td>\n",
       "      <td>0 days 00:09:23</td>\n",
       "      <td>0</td>\n",
       "      <td>0</td>\n",
       "      <td>2</td>\n",
       "      <td>Sketcher</td>\n",
       "      <td>Nakikisabay lang ako kay aiza sa zone niya.. s...</td>\n",
       "      <td>Fraulein</td>\n",
       "      <td>2025-05-10</td>\n",
       "      <td>TRANSITION 1</td>\n",
       "      <td>5k LSD Road@ Zone 2 Pace</td>\n",
       "      <td>0 days 00:35:45.030000</td>\n",
       "    </tr>\n",
       "  </tbody>\n",
       "</table>\n",
       "</div>"
      ],
      "text/plain": [
       "                     TimeStamp Date_of_Activity                  Activity  \\\n",
       "0          2025-05-05 00:00:00       2025-05-05          30 Mins Easy Run   \n",
       "1   2025-05-06 10:26:19.498000       2025-05-05          30 Mins Easy Run   \n",
       "2   2025-05-06 22:35:29.109000       2025-05-06          30 Mins Easy Run   \n",
       "3   2025-05-08 17:45:42.199000       2025-05-06          20 Mins Easy Run   \n",
       "4   2025-05-08 17:46:37.715000       2025-05-07                      Rest   \n",
       "5   2025-05-08 21:09:33.083000       2025-05-08          30 Mins Easy Run   \n",
       "6   2025-05-08 21:11:57.337000       2025-05-08          30 Mins Easy Run   \n",
       "7   2025-05-09 18:20:31.597000       2025-05-08          30 Mins Easy Run   \n",
       "8   2025-05-10 15:53:19.769000       2025-05-08          30 Mins Easy Run   \n",
       "9   2025-05-10 15:50:06.246000       2025-05-10  5k LSD Road@ Zone 2 Pace   \n",
       "10  2025-05-10 20:03:54.937000       2025-05-10  6k LSD Road@ Zone 2 Pace   \n",
       "20         2025-05-13 22:36:20       2025-05-10          30 Mins Easy Run   \n",
       "\n",
       "    Distance            Pace  HR (bpm)  Cadence (steps/min)  RPE (1–10 scale)  \\\n",
       "0       3.82 0 days 00:09:14       122                  160                 3   \n",
       "1       3.00 0 days 00:08:44         0                    0                 1   \n",
       "2       3.70 0 days 00:08:16       133                  165                 5   \n",
       "3       2.43 0 days 00:08:24         0                    0                 2   \n",
       "4       0.00 0 days 00:00:00         0                    0                 1   \n",
       "5       3.00 0 days 00:09:59       152                  154                 8   \n",
       "6       3.00 0 days 00:10:00       150                  153                 6   \n",
       "7       3.04 0 days 00:08:34         0                    0                 3   \n",
       "8       3.85 0 days 00:09:04       124                  163                 3   \n",
       "9       4.56 0 days 00:07:41       131                  162                 4   \n",
       "10      6.11 0 days 00:09:08       162                    0                 7   \n",
       "20      3.81 0 days 00:09:23         0                    0                 2   \n",
       "\n",
       "                          Shoe  \\\n",
       "0               Nike Winflo 10   \n",
       "1                            0   \n",
       "2   Reebok Float Ride Energy 4   \n",
       "3                            0   \n",
       "4                            0   \n",
       "5           Adidas Adizero SL2   \n",
       "6                  NB Rebel v3   \n",
       "7                            0   \n",
       "8                         Nike   \n",
       "9                         Nike   \n",
       "10                 Adidas Pink   \n",
       "20                    Sketcher   \n",
       "\n",
       "                                              Remarks Member Name       Date  \\\n",
       "0                                                   0        Aiza 2025-05-05   \n",
       "1                                                   0    Fraulein 2025-05-05   \n",
       "2                                                   0        Aiza 2025-05-06   \n",
       "3                                              Puyat!    Fraulein 2025-05-06   \n",
       "4                                                LG 😜    Fraulein 2025-05-07   \n",
       "5                                                   🫠      Maxine 2025-05-08   \n",
       "6                                                   0        Lead 2025-05-08   \n",
       "7   Sumakit ulit ung tagiliran. At medyo parang na...    Fraulein 2025-05-08   \n",
       "8                                                   0        Aiza 2025-05-08   \n",
       "9                                                   0        Aiza 2025-05-10   \n",
       "10                                             paltos       Chona 2025-05-10   \n",
       "20  Nakikisabay lang ako kay aiza sa zone niya.. s...    Fraulein 2025-05-10   \n",
       "\n",
       "            Week                    Scheduled_Activity  \\\n",
       "0   TRANSITION 1                      30 Mins Easy Run   \n",
       "1   TRANSITION 1                      30 Mins Easy Run   \n",
       "2   TRANSITION 1  1k @ Zone 3 /Tempo/ Comfortably Hard   \n",
       "3   TRANSITION 1  1k @ Zone 3 /Tempo/ Comfortably Hard   \n",
       "4   TRANSITION 1                                  Rest   \n",
       "5   TRANSITION 1                      30 Mins Easy Run   \n",
       "6   TRANSITION 1                      30 Mins Easy Run   \n",
       "7   TRANSITION 1                      30 Mins Easy Run   \n",
       "8   TRANSITION 1                      30 Mins Easy Run   \n",
       "9   TRANSITION 1              5k LSD Road@ Zone 2 Pace   \n",
       "10  TRANSITION 1              5k LSD Road@ Zone 2 Pace   \n",
       "20  TRANSITION 1              5k LSD Road@ Zone 2 Pace   \n",
       "\n",
       "                 Moving_Time  \n",
       "0     0 days 00:35:16.280000  \n",
       "1            0 days 00:26:12  \n",
       "2     0 days 00:30:35.200000  \n",
       "3     0 days 00:20:24.720000  \n",
       "4            0 days 00:00:00  \n",
       "5            0 days 00:29:57  \n",
       "6            0 days 00:30:00  \n",
       "7     0 days 00:26:02.560000  \n",
       "8     0 days 00:34:54.400000  \n",
       "9  0 days 00:35:02.159999999  \n",
       "10    0 days 00:55:48.280000  \n",
       "20    0 days 00:35:45.030000  "
      ]
     },
     "execution_count": 50,
     "metadata": {},
     "output_type": "execute_result"
    }
   ],
   "source": [
    "import pandas as pd\n",
    "import datetime\n",
    "df = pd.read_excel(r\"C:/Users/king.m/Python/2025/DS Proj/running_app/data/runner_data.xlsx\"\n",
    ",\n",
    "    sheet_name='for streamlit',\n",
    "    header=None,\n",
    "    names=[\n",
    "        \"TimeStamp\",\n",
    "        \"Date_of_Activity\",\n",
    "        \"Activity\",\n",
    "        \"Distance\",\n",
    "        \"Pace\", \n",
    "        \"HR (bpm)\",\n",
    "        \"Cadence (steps/min)\",\n",
    "        \"RPE (1–10 scale)\",\n",
    "        \"Shoe\",\n",
    "        \"Remarks\",\n",
    "        \"Member Name\",\n",
    "    ],\n",
    ")\n",
    "    # RENAME HEADERS#\n",
    "df.rename(\n",
    "    columns={\n",
    "        0: \"TimeStamp\",\n",
    "        1: \"Date_of_Activity\",\n",
    "        2: \"Activity\",\n",
    "        3: \"Distance\",\n",
    "        4: \"Pace\",\n",
    "        5: \"HR (bpm)\",\n",
    "        6: \"Cadence (steps/min)\",\n",
    "        7: \"RPE (1–10 scale)\",\n",
    "        8: \"Shoe\",\n",
    "        9: \"Remarks\",\n",
    "        10: \"Member Name\",\n",
    "    },\n",
    "    inplace=True,\n",
    ")\n",
    " # WEEK LOOKUP\n",
    "df2 = pd.read_excel(\n",
    "    r\"C:/Users/king.m/Python/2025/DS Proj/running_app/data/runner_data.xlsx\",\n",
    "    sheet_name=\"Log Test\",\n",
    "    header=0)\n",
    "\n",
    "################################################################\n",
    "\n",
    "# filter only first 3 columns\n",
    "df2 = df2.iloc[:, 0:3]\n",
    "# rename columns\n",
    "df2.rename(\n",
    "    columns={\"Dates\": \"Date\", \"WEEK\": \"Week\", \"Activity\": \"Scheduled_Activity\"},\n",
    "    inplace=True)\n",
    "\n",
    "\n",
    "df2[\"Date\"] = pd.to_datetime(df2[\"Date\"])\n",
    "\n",
    "def time_to_timedelta(t):\n",
    "    if isinstance(t, datetime.time):\n",
    "        return datetime.timedelta(hours=t.hour, minutes=t.minute, seconds=t.second)\n",
    "    return pd.NaT  # or handle differently if needed\n",
    "\n",
    "df[\"Pace\"] = df[\"Pace\"].apply(time_to_timedelta)\n",
    "\n",
    "# CONCAT HISTORICAL AND NEWLOG\n",
    "# df = pd.concat([df, df3], ignore_index=True)\n",
    "# cleanup main df\n",
    "df[\"Date_of_Activity\"] = pd.to_datetime(df[\"Date_of_Activity\"], errors=\"coerce\")\n",
    "\n",
    "\n",
    "df[\"Distance\"] = pd.to_numeric(df[\"Distance\"])\n",
    "\n",
    "# lookup of weekname\n",
    "df = df.merge(df2, left_on=\"Date_of_Activity\", right_on=\"Date\", how=\"left\")\n",
    "# Apply to column\n",
    "\n",
    "# CALCULATE MOVING TIME\n",
    "df[\"Moving_Time\"] = df[\"Pace\"] * df[\"Distance\"]\n",
    "\n",
    "df\n",
    "\n",
    "df[\n",
    "    df[\"Week\"].isin([\"TRANSITION 1\"])\n",
    "]"
   ]
  },
  {
   "cell_type": "code",
   "execution_count": 58,
   "metadata": {},
   "outputs": [
    {
     "data": {
      "text/plain": [
       "Timedelta('0 days 00:08:57')"
      ]
     },
     "execution_count": 58,
     "metadata": {},
     "output_type": "execute_result"
    }
   ],
   "source": [
    "validate = df[\n",
    "    df[\"Week\"].isin([\"TRANSITION 1\"])\n",
    "]\n",
    "\n",
    "\n",
    "validate= validate[\n",
    "    ~validate[\"Activity\"].isin([\"Rest\", \"Cross Train\", \"Strength Training\"])\n",
    "]\n",
    "\n",
    "validate[\"Pace\"].mean()"
   ]
  },
  {
   "cell_type": "code",
   "execution_count": 59,
   "metadata": {},
   "outputs": [
    {
     "data": {
      "text/plain": [
       "TimeStamp                       object\n",
       "Date_of_Activity        datetime64[ns]\n",
       "Activity                        object\n",
       "Distance                       float64\n",
       "Pace                   timedelta64[ns]\n",
       "HR (bpm)                         int64\n",
       "Cadence (steps/min)              int64\n",
       "RPE (1–10 scale)                 int64\n",
       "Shoe                            object\n",
       "Remarks                         object\n",
       "Member Name                     object\n",
       "Date                    datetime64[ns]\n",
       "Week                            object\n",
       "Scheduled_Activity              object\n",
       "Moving_Time            timedelta64[ns]\n",
       "dtype: object"
      ]
     },
     "execution_count": 59,
     "metadata": {},
     "output_type": "execute_result"
    }
   ],
   "source": [
    "filtered_data = df[\n",
    "    ~df[\"Activity\"].isin([\"Rest\", \"Cross Train\", \"Strength Training\"])\n",
    "]\n",
    "\n",
    "filtered_data = filtered_data[\n",
    "    filtered_data[\"Week\"].isin([\"TRANSITION 1\"])\n",
    "]\n",
    "\n",
    "filtered_data.dtypes"
   ]
  },
  {
   "cell_type": "code",
   "execution_count": 74,
   "metadata": {},
   "outputs": [
    {
     "ename": "NameError",
     "evalue": "name 'st' is not defined",
     "output_type": "error",
     "traceback": [
      "\u001b[31m---------------------------------------------------------------------------\u001b[39m",
      "\u001b[31mNameError\u001b[39m                                 Traceback (most recent call last)",
      "\u001b[36mCell\u001b[39m\u001b[36m \u001b[39m\u001b[32mIn[74]\u001b[39m\u001b[32m, line 40\u001b[39m\n\u001b[32m     37\u001b[39m fig.update_traces(fill=\u001b[33m\"\u001b[39m\u001b[33mtoself\u001b[39m\u001b[33m\"\u001b[39m)\n\u001b[32m     38\u001b[39m fig.update_layout(title=\u001b[33m\"\u001b[39m\u001b[33mActivity Comparison Across Multiple Metrics (Normalized)\u001b[39m\u001b[33m\"\u001b[39m)\n\u001b[32m---> \u001b[39m\u001b[32m40\u001b[39m \u001b[43mst\u001b[49m.plotly_chart(fig, use_container_width=\u001b[38;5;28;01mTrue\u001b[39;00m)\n",
      "\u001b[31mNameError\u001b[39m: name 'st' is not defined"
     ]
    }
   ],
   "source": [
    "import pandas as pd\n",
    "import plotly.express as px\n",
    "from sklearn.preprocessing import MinMaxScaler\n",
    "\n",
    "# Group and aggregate\n",
    "agg_df = df.groupby(\"Activity\", as_index=False).agg({\n",
    "    \"Distance\": \"mean\",\n",
    "    \"Cadence (steps/min)\": \"mean\",\n",
    "    \"RPE (1–10 scale)\": \"mean\",\n",
    "    \"Pace\": \"mean\",  # timedelta format\n",
    "})\n",
    "\n",
    "agg_df[\"Pace\"] = agg_df[\"Pace\"].dt.total_seconds()\n",
    "\n",
    "#Normalize the measures\n",
    "measures = [\"Distance\", \"Cadence (steps/min)\", \"RPE (1–10 scale)\", \"Pace\"]\n",
    "scaler = MinMaxScaler()\n",
    "agg_df_scaled = agg_df.copy()\n",
    "agg_df_scaled[measures] = scaler.fit_transform(agg_df[measures])\n",
    "\n",
    "agg_df_scaled.head()\n",
    "#Melt for polar plotting\n",
    "\n",
    "melted = agg_df_scaled.melt(id_vars=\"Activity\", var_name=\"Metric\", value_name=\"Normalized Value\")\n",
    "\n",
    "melted\n",
    "#Plot\n",
    "fig = px.line_polar(\n",
    "    melted,\n",
    "    r=\"Normalized Value\",\n",
    "    theta=\"Activity\",\n",
    "    color=\"Metric\",\n",
    "    line_close=True,\n",
    "    markers=True,\n",
    ")\n",
    "\n",
    "fig.update_traces(fill=\"toself\")\n",
    "fig.update_layout(title=\"Activity Comparison Across Multiple Metrics (Normalized)\")\n",
    "\n",
    "st.plotly_chart(fig, use_container_width=True)"
   ]
  },
  {
   "cell_type": "code",
   "execution_count": 78,
   "metadata": {},
   "outputs": [
    {
     "data": {
      "text/html": [
       "<div>\n",
       "<style scoped>\n",
       "    .dataframe tbody tr th:only-of-type {\n",
       "        vertical-align: middle;\n",
       "    }\n",
       "\n",
       "    .dataframe tbody tr th {\n",
       "        vertical-align: top;\n",
       "    }\n",
       "\n",
       "    .dataframe thead th {\n",
       "        text-align: right;\n",
       "    }\n",
       "</style>\n",
       "<table border=\"1\" class=\"dataframe\">\n",
       "  <thead>\n",
       "    <tr style=\"text-align: right;\">\n",
       "      <th></th>\n",
       "      <th>Activity</th>\n",
       "      <th>Metric</th>\n",
       "      <th>Normalized Value</th>\n",
       "      <th>Actual Value</th>\n",
       "    </tr>\n",
       "  </thead>\n",
       "  <tbody>\n",
       "    <tr>\n",
       "      <th>0</th>\n",
       "      <td>10k LSD @ Zone 2 Pace</td>\n",
       "      <td>Distance</td>\n",
       "      <td>0.682602</td>\n",
       "      <td>10.150000</td>\n",
       "    </tr>\n",
       "    <tr>\n",
       "      <th>1</th>\n",
       "      <td>10k LSD Trail@ Zone 2 Pace</td>\n",
       "      <td>Distance</td>\n",
       "      <td>0.750392</td>\n",
       "      <td>11.015000</td>\n",
       "    </tr>\n",
       "    <tr>\n",
       "      <th>2</th>\n",
       "      <td>12k LSD Road@ Zone 2 Pace</td>\n",
       "      <td>Distance</td>\n",
       "      <td>0.848746</td>\n",
       "      <td>12.270000</td>\n",
       "    </tr>\n",
       "    <tr>\n",
       "      <th>3</th>\n",
       "      <td>14k LSD Road@ Zone 2 Pace</td>\n",
       "      <td>Distance</td>\n",
       "      <td>1.000000</td>\n",
       "      <td>14.200000</td>\n",
       "    </tr>\n",
       "    <tr>\n",
       "      <th>4</th>\n",
       "      <td>20 Mins Easy Run</td>\n",
       "      <td>Distance</td>\n",
       "      <td>0.078892</td>\n",
       "      <td>2.446667</td>\n",
       "    </tr>\n",
       "    <tr>\n",
       "      <th>...</th>\n",
       "      <td>...</td>\n",
       "      <td>...</td>\n",
       "      <td>...</td>\n",
       "      <td>...</td>\n",
       "    </tr>\n",
       "    <tr>\n",
       "      <th>79</th>\n",
       "      <td>60 Mins Easy Run</td>\n",
       "      <td>Pace</td>\n",
       "      <td>0.817455</td>\n",
       "      <td>626.000000</td>\n",
       "    </tr>\n",
       "    <tr>\n",
       "      <th>80</th>\n",
       "      <td>6k LSD Road@ Zone 2 Pace</td>\n",
       "      <td>Pace</td>\n",
       "      <td>0.751076</td>\n",
       "      <td>608.000000</td>\n",
       "    </tr>\n",
       "    <tr>\n",
       "      <th>81</th>\n",
       "      <td>8k LSD Road@ Zone 2 Pace</td>\n",
       "      <td>Pace</td>\n",
       "      <td>0.398433</td>\n",
       "      <td>512.375000</td>\n",
       "    </tr>\n",
       "    <tr>\n",
       "      <th>82</th>\n",
       "      <td>Speed Work (Zone 4 : 6x400M)</td>\n",
       "      <td>Pace</td>\n",
       "      <td>0.699447</td>\n",
       "      <td>594.000000</td>\n",
       "    </tr>\n",
       "    <tr>\n",
       "      <th>83</th>\n",
       "      <td>Warm Up</td>\n",
       "      <td>Pace</td>\n",
       "      <td>0.161033</td>\n",
       "      <td>448.000000</td>\n",
       "    </tr>\n",
       "  </tbody>\n",
       "</table>\n",
       "<p>84 rows × 4 columns</p>\n",
       "</div>"
      ],
      "text/plain": [
       "                        Activity    Metric  Normalized Value  Actual Value\n",
       "0          10k LSD @ Zone 2 Pace  Distance          0.682602     10.150000\n",
       "1     10k LSD Trail@ Zone 2 Pace  Distance          0.750392     11.015000\n",
       "2      12k LSD Road@ Zone 2 Pace  Distance          0.848746     12.270000\n",
       "3      14k LSD Road@ Zone 2 Pace  Distance          1.000000     14.200000\n",
       "4               20 Mins Easy Run  Distance          0.078892      2.446667\n",
       "..                           ...       ...               ...           ...\n",
       "79              60 Mins Easy Run      Pace          0.817455    626.000000\n",
       "80      6k LSD Road@ Zone 2 Pace      Pace          0.751076    608.000000\n",
       "81      8k LSD Road@ Zone 2 Pace      Pace          0.398433    512.375000\n",
       "82  Speed Work (Zone 4 : 6x400M)      Pace          0.699447    594.000000\n",
       "83                       Warm Up      Pace          0.161033    448.000000\n",
       "\n",
       "[84 rows x 4 columns]"
      ]
     },
     "execution_count": 78,
     "metadata": {},
     "output_type": "execute_result"
    }
   ],
   "source": [
    "filtered_data = df[\n",
    "    ~df[\"Activity\"].isin([\"Rest\", \"Cross Train\", \"Strength Training\", 0])\n",
    "]  # filter non running activity\n",
    "\n",
    "agg_df = filtered_data.groupby(\"Activity\", as_index=False).agg(\n",
    "    {\n",
    "        \"Distance\": \"mean\",\n",
    "        \"Cadence (steps/min)\": \"mean\",\n",
    "        \"RPE (1–10 scale)\": \"mean\",\n",
    "        \"Pace\": \"mean\",  # timedelta format\n",
    "    }\n",
    ")\n",
    "\n",
    "agg_df[\"Pace\"] = agg_df[\"Pace\"].dt.total_seconds().astype(float)\n",
    "\n",
    "# Normalize the measures\n",
    "measures = [\"Distance\", \"Cadence (steps/min)\", \"RPE (1–10 scale)\", \"Pace\"]\n",
    "scaler = MinMaxScaler()    \n",
    "# agg_df_scaled[measures] = scaler.fit_transform(agg_df[measures])\n",
    "\n",
    "normalized = pd.DataFrame(scaler.fit_transform(agg_df[measures]), columns=measures)\n",
    "\n",
    "# Melt for polar plotting\n",
    "\n",
    "df_normalized = agg_df[['Activity']].copy()\n",
    "for metric in measures:\n",
    "    df_normalized[metric + \"_norm\"] = normalized[metric]\n",
    "    df_normalized[metric + \"_actual\"] = agg_df[metric]\n",
    "\n",
    "melted = pd.melt(\n",
    "    df_normalized,\n",
    "    id_vars=[\"Activity\"],\n",
    "    value_vars=[m + \"_norm\" for m in measures],\n",
    "    var_name=\"Metric\",\n",
    "    value_name=\"Normalized Value\"\n",
    ")\n",
    "\n",
    "# Add actual values\n",
    "melted[\"Metric\"] = melted[\"Metric\"].str.replace(\"_norm\", \"\")\n",
    "melted[\"Actual Value\"] = pd.concat([\n",
    "    df_normalized[m + \"_actual\"] for m in measures\n",
    "], ignore_index=True)\n",
    "\n",
    "melted\n"
   ]
  },
  {
   "cell_type": "code",
   "execution_count": 25,
   "metadata": {},
   "outputs": [],
   "source": [
    "import pandas as pd\n",
    "import gspread\n",
    "from oauth2client.service_account import ServiceAccountCredentials\n",
    "import streamlit as st\n",
    "import pandas as pd\n",
    "import datetime\n",
    "\n",
    "def get_gsheet_client():\n",
    "    scope = [\n",
    "        \"https://spreadsheets.google.com/feeds\",\n",
    "        \"https://www.googleapis.com/auth/drive\",\n",
    "    ]\n",
    "    creds = ServiceAccountCredentials.from_json_keyfile_dict(\n",
    "        st.secrets[\"google_sheets\"], scope\n",
    "    )\n",
    "    client = gspread.authorize(creds)\n",
    "    return client\n",
    "\n",
    "\n",
    "client = get_gsheet_client()\n",
    "sheet = client.open_by_key(\"1RDIWNLnrMR9SxR6uMxI-BuQlkefXPsGTlaQx2PQ7ENM\")\n",
    "# USING \"for streamlit\" tab - for historical\n",
    "worksheet = sheet.get_worksheet_by_id(1508007696)  # or use get_worksheet_by_id(gid)\n",
    "data = worksheet.get_all_values()\n",
    "\n",
    "df = pd.DataFrame(data)\n",
    "\n",
    "# RENAME HEADERS#\n",
    "df.rename(\n",
    "    columns={\n",
    "        0: \"TimeStamp\",\n",
    "        1: \"Date_of_Activity\",\n",
    "        2: \"Activity\",\n",
    "        3: \"Distance\",\n",
    "        4: \"Pace\",\n",
    "        5: \"HR (bpm)\",\n",
    "        6: \"Cadence (steps/min)\",\n",
    "        7: \"RPE (1–10 scale)\",\n",
    "        8: \"Shoe\",\n",
    "        9: \"Remarks\",\n",
    "        10: \"Member Name\",\n",
    "    },\n",
    "    inplace=True,\n",
    ")\n",
    "\n",
    "\n",
    "  # CONCAT HISTORICAL AND NEWLOG\n",
    "df[\"Pace\"] = pd.to_timedelta(df[\"Pace\"])\n",
    "# df3[\"Pace\"] = pd.to_timedelta(df3[\"Pace\"])\n",
    "\n",
    "df[\"Distance\"] = pd.to_numeric(df[\"Distance\"])\n",
    "# df3[\"Distance\"] = pd.to_numeric(df3[\"Distance\"])\n",
    "\n",
    "# APPEND\n",
    "# df = pd.concat([df, df3], ignore_index=True)\n",
    "# cleanup main df\n",
    "df[\"Date_of_Activity\"] = pd.to_datetime(df[\"Date_of_Activity\"], errors=\"coerce\")\n",
    "df[\"Pace\"] = pd.to_timedelta(df[\"Pace\"])\n",
    "\n",
    "def pace_str_to_minutes(pace_str):\n",
    "    # \"\"\"Convert a pace string 'MM:SS' to minutes as float.\"\"\"\n",
    "    try:\n",
    "        minutes, seconds = map(int, pace_str.split(\":\"))\n",
    "        return minutes + seconds / 60\n",
    "    except:\n",
    "        return None\n",
    "\n",
    "df[\"Pace_str\"] = df[\"Pace\"].apply(pace_str_to_minutes)\n",
    "df[\"Distance\"] = pd.to_numeric(df[\"Distance\"])\n",
    "\n",
    "# lookup of weekname\n",
    "df = df.merge(df2, left_on=\"Date_of_Activity\", right_on=\"Date\", how=\"left\")\n",
    "# Apply to column\n",
    "\n",
    "# CALCULATE MOVING TIME\n",
    "df[\"Moving_Time\"] = df[\"Pace\"] * df[\"Distance\"]\n",
    "\n",
    "avg_pace = pd.to_timedelta(df[\"Pace\"]).mean()\n",
    "\n",
    "# metric_pace = f\"{int(avg_pace.total_seconds() // 60):02d}:{int(avg_pace.total_seconds() % 60):02d}\"\n"
   ]
  },
  {
   "cell_type": "code",
   "execution_count": 26,
   "metadata": {},
   "outputs": [
    {
     "name": "stdout",
     "output_type": "stream",
     "text": [
      "0 days 00:09:04.834710743\n"
     ]
    }
   ],
   "source": [
    "print(avg_pace)"
   ]
  },
  {
   "cell_type": "code",
   "execution_count": 19,
   "metadata": {},
   "outputs": [
    {
     "name": "stdout",
     "output_type": "stream",
     "text": [
      "0 days 00:09:04.834710743\n",
      "09:04\n"
     ]
    },
    {
     "data": {
      "text/plain": [
       "str"
      ]
     },
     "execution_count": 19,
     "metadata": {},
     "output_type": "execute_result"
    }
   ],
   "source": [
    "\n",
    "print(avg_pace)\n",
    "print(metric_pace)\n",
    "type(avg_pace)\n",
    "type(metric_pace)"
   ]
  },
  {
   "cell_type": "code",
   "execution_count": 20,
   "metadata": {},
   "outputs": [
    {
     "ename": "KeyError",
     "evalue": "'Moving_Time'",
     "output_type": "error",
     "traceback": [
      "\u001b[31m---------------------------------------------------------------------------\u001b[39m",
      "\u001b[31mKeyError\u001b[39m                                  Traceback (most recent call last)",
      "\u001b[36mFile \u001b[39m\u001b[32mc:\\Users\\king.m\\AppData\\Local\\Programs\\Python\\Python312\\Lib\\site-packages\\pandas\\core\\indexes\\base.py:3812\u001b[39m, in \u001b[36mIndex.get_loc\u001b[39m\u001b[34m(self, key)\u001b[39m\n\u001b[32m   3811\u001b[39m \u001b[38;5;28;01mtry\u001b[39;00m:\n\u001b[32m-> \u001b[39m\u001b[32m3812\u001b[39m     \u001b[38;5;28;01mreturn\u001b[39;00m \u001b[38;5;28;43mself\u001b[39;49m\u001b[43m.\u001b[49m\u001b[43m_engine\u001b[49m\u001b[43m.\u001b[49m\u001b[43mget_loc\u001b[49m\u001b[43m(\u001b[49m\u001b[43mcasted_key\u001b[49m\u001b[43m)\u001b[49m\n\u001b[32m   3813\u001b[39m \u001b[38;5;28;01mexcept\u001b[39;00m \u001b[38;5;167;01mKeyError\u001b[39;00m \u001b[38;5;28;01mas\u001b[39;00m err:\n",
      "\u001b[36mFile \u001b[39m\u001b[32mpandas/_libs/index.pyx:167\u001b[39m, in \u001b[36mpandas._libs.index.IndexEngine.get_loc\u001b[39m\u001b[34m()\u001b[39m\n",
      "\u001b[36mFile \u001b[39m\u001b[32mpandas/_libs/index.pyx:196\u001b[39m, in \u001b[36mpandas._libs.index.IndexEngine.get_loc\u001b[39m\u001b[34m()\u001b[39m\n",
      "\u001b[36mFile \u001b[39m\u001b[32mpandas/_libs/hashtable_class_helper.pxi:7088\u001b[39m, in \u001b[36mpandas._libs.hashtable.PyObjectHashTable.get_item\u001b[39m\u001b[34m()\u001b[39m\n",
      "\u001b[36mFile \u001b[39m\u001b[32mpandas/_libs/hashtable_class_helper.pxi:7096\u001b[39m, in \u001b[36mpandas._libs.hashtable.PyObjectHashTable.get_item\u001b[39m\u001b[34m()\u001b[39m\n",
      "\u001b[31mKeyError\u001b[39m: 'Moving_Time'",
      "\nThe above exception was the direct cause of the following exception:\n",
      "\u001b[31mKeyError\u001b[39m                                  Traceback (most recent call last)",
      "\u001b[36mCell\u001b[39m\u001b[36m \u001b[39m\u001b[32mIn[20]\u001b[39m\u001b[32m, line 7\u001b[39m\n\u001b[32m      1\u001b[39m filtered_data = df[\n\u001b[32m      2\u001b[39m         ~df[\u001b[33m\"\u001b[39m\u001b[33mActivity\u001b[39m\u001b[33m\"\u001b[39m].isin([\u001b[33m\"\u001b[39m\u001b[33mRest\u001b[39m\u001b[33m\"\u001b[39m, \u001b[33m\"\u001b[39m\u001b[33mCross Train\u001b[39m\u001b[33m\"\u001b[39m, \u001b[33m\"\u001b[39m\u001b[33mStrength Training\u001b[39m\u001b[33m\"\u001b[39m, \u001b[32m0\u001b[39m])\n\u001b[32m      3\u001b[39m     ]\n\u001b[32m      5\u001b[39m df = filtered_data\n\u001b[32m----> \u001b[39m\u001b[32m7\u001b[39m df[\u001b[33m\"\u001b[39m\u001b[33mMoving_Time\u001b[39m\u001b[33m\"\u001b[39m] = pd.to_timedelta(\u001b[43mdf\u001b[49m\u001b[43m[\u001b[49m\u001b[33;43m\"\u001b[39;49m\u001b[33;43mMoving_Time\u001b[39;49m\u001b[33;43m\"\u001b[39;49m\u001b[43m]\u001b[49m)\n\u001b[32m      8\u001b[39m metric_distance = \u001b[38;5;28mint\u001b[39m(df[\u001b[33m\"\u001b[39m\u001b[33mDistance\u001b[39m\u001b[33m\"\u001b[39m].sum())\n\u001b[32m     10\u001b[39m \u001b[38;5;66;03m# TOTAL MOVING TIME\u001b[39;00m\n",
      "\u001b[36mFile \u001b[39m\u001b[32mc:\\Users\\king.m\\AppData\\Local\\Programs\\Python\\Python312\\Lib\\site-packages\\pandas\\core\\frame.py:4107\u001b[39m, in \u001b[36mDataFrame.__getitem__\u001b[39m\u001b[34m(self, key)\u001b[39m\n\u001b[32m   4105\u001b[39m \u001b[38;5;28;01mif\u001b[39;00m \u001b[38;5;28mself\u001b[39m.columns.nlevels > \u001b[32m1\u001b[39m:\n\u001b[32m   4106\u001b[39m     \u001b[38;5;28;01mreturn\u001b[39;00m \u001b[38;5;28mself\u001b[39m._getitem_multilevel(key)\n\u001b[32m-> \u001b[39m\u001b[32m4107\u001b[39m indexer = \u001b[38;5;28;43mself\u001b[39;49m\u001b[43m.\u001b[49m\u001b[43mcolumns\u001b[49m\u001b[43m.\u001b[49m\u001b[43mget_loc\u001b[49m\u001b[43m(\u001b[49m\u001b[43mkey\u001b[49m\u001b[43m)\u001b[49m\n\u001b[32m   4108\u001b[39m \u001b[38;5;28;01mif\u001b[39;00m is_integer(indexer):\n\u001b[32m   4109\u001b[39m     indexer = [indexer]\n",
      "\u001b[36mFile \u001b[39m\u001b[32mc:\\Users\\king.m\\AppData\\Local\\Programs\\Python\\Python312\\Lib\\site-packages\\pandas\\core\\indexes\\base.py:3819\u001b[39m, in \u001b[36mIndex.get_loc\u001b[39m\u001b[34m(self, key)\u001b[39m\n\u001b[32m   3814\u001b[39m     \u001b[38;5;28;01mif\u001b[39;00m \u001b[38;5;28misinstance\u001b[39m(casted_key, \u001b[38;5;28mslice\u001b[39m) \u001b[38;5;129;01mor\u001b[39;00m (\n\u001b[32m   3815\u001b[39m         \u001b[38;5;28misinstance\u001b[39m(casted_key, abc.Iterable)\n\u001b[32m   3816\u001b[39m         \u001b[38;5;129;01mand\u001b[39;00m \u001b[38;5;28many\u001b[39m(\u001b[38;5;28misinstance\u001b[39m(x, \u001b[38;5;28mslice\u001b[39m) \u001b[38;5;28;01mfor\u001b[39;00m x \u001b[38;5;129;01min\u001b[39;00m casted_key)\n\u001b[32m   3817\u001b[39m     ):\n\u001b[32m   3818\u001b[39m         \u001b[38;5;28;01mraise\u001b[39;00m InvalidIndexError(key)\n\u001b[32m-> \u001b[39m\u001b[32m3819\u001b[39m     \u001b[38;5;28;01mraise\u001b[39;00m \u001b[38;5;167;01mKeyError\u001b[39;00m(key) \u001b[38;5;28;01mfrom\u001b[39;00m\u001b[38;5;250m \u001b[39m\u001b[34;01merr\u001b[39;00m\n\u001b[32m   3820\u001b[39m \u001b[38;5;28;01mexcept\u001b[39;00m \u001b[38;5;167;01mTypeError\u001b[39;00m:\n\u001b[32m   3821\u001b[39m     \u001b[38;5;66;03m# If we have a listlike key, _check_indexing_error will raise\u001b[39;00m\n\u001b[32m   3822\u001b[39m     \u001b[38;5;66;03m#  InvalidIndexError. Otherwise we fall through and re-raise\u001b[39;00m\n\u001b[32m   3823\u001b[39m     \u001b[38;5;66;03m#  the TypeError.\u001b[39;00m\n\u001b[32m   3824\u001b[39m     \u001b[38;5;28mself\u001b[39m._check_indexing_error(key)\n",
      "\u001b[31mKeyError\u001b[39m: 'Moving_Time'"
     ]
    }
   ],
   "source": [
    "filtered_data = df[\n",
    "        ~df[\"Activity\"].isin([\"Rest\", \"Cross Train\", \"Strength Training\", 0])\n",
    "    ]\n",
    "\n",
    "df = filtered_data\n",
    "\n",
    "df[\"Moving_Time\"] = pd.to_timedelta(df[\"Moving_Time\"])\n",
    "metric_distance = int(df[\"Distance\"].sum())\n",
    "\n",
    "# TOTAL MOVING TIME\n",
    "total_seconds = int(df[\"Moving_Time\"].sum().total_seconds())\n",
    "hours = total_seconds // 3600\n",
    "minutes = (total_seconds % 3600) // 60\n",
    "seconds = total_seconds % 60\n",
    "metric_movingtime = f\"{hours:02d}:{minutes:02d}:{seconds:02d}\"\n",
    "\n",
    "# AVG PACE\n",
    "avg_pace = pd.to_timedelta(df[\"Pace\"]).mean()\n",
    "\n",
    "metric_pace = f\"{int(avg_pace.total_seconds() // 60):02d}:{int(avg_pace.total_seconds() % 60):02d}\"\n"
   ]
  }
 ],
 "metadata": {
  "kernelspec": {
   "display_name": "Python 3",
   "language": "python",
   "name": "python3"
  },
  "language_info": {
   "codemirror_mode": {
    "name": "ipython",
    "version": 3
   },
   "file_extension": ".py",
   "mimetype": "text/x-python",
   "name": "python",
   "nbconvert_exporter": "python",
   "pygments_lexer": "ipython3",
   "version": "3.12.2"
  }
 },
 "nbformat": 4,
 "nbformat_minor": 2
}
