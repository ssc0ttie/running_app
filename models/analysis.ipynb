{
 "cells": [
  {
   "cell_type": "code",
   "execution_count": 52,
   "metadata": {},
   "outputs": [
    {
     "ename": "AttributeError",
     "evalue": "'str' object has no attribute 'head'",
     "output_type": "error",
     "traceback": [
      "\u001b[31m---------------------------------------------------------------------------\u001b[39m",
      "\u001b[31mAttributeError\u001b[39m                            Traceback (most recent call last)",
      "\u001b[36mCell\u001b[39m\u001b[36m \u001b[39m\u001b[32mIn[52]\u001b[39m\u001b[32m, line 24\u001b[39m\n\u001b[32m     17\u001b[39m \u001b[38;5;66;03m# df.head()\u001b[39;00m\n\u001b[32m     19\u001b[39m prog_df = prog_df.iloc[\u001b[32m1\u001b[39m,\u001b[32m2\u001b[39m]\n\u001b[32m---> \u001b[39m\u001b[32m24\u001b[39m \u001b[43mprog_df\u001b[49m\u001b[43m.\u001b[49m\u001b[43mhead\u001b[49m()\n",
      "\u001b[31mAttributeError\u001b[39m: 'str' object has no attribute 'head'"
     ]
    }
   ],
   "source": [
    "import pandas as pd\n",
    "'''\n",
    "https://docs.google.com/spreadsheets/d/1RDIWNLnrMR9SxR6uMxI-BuQlkefXPsGTlaQx2PQ7ENM/edit?usp=sharing\n",
    "https://docs.google.com/spreadsheets/d/1RDIWNLnrMR9SxR6uMxI-BuQlkefXPsGTlaQx2PQ7ENM/edit?usp=sharing\n",
    "https://docs.google.com/spreadsheets/d/1RDIWNLnrMR9SxR6uMxI-BuQlkefXPsGTlaQx2PQ7ENM/edit?usp=sharing\n",
    "\n",
    "'''\n",
    "sheet_id = \"1RDIWNLnrMR9SxR6uMxI-BuQlkefXPsGTlaQx2PQ7ENM\"\n",
    "historical_log_gid = \"1233739225\"\n",
    "prog_gid = 0\n",
    "url= f\"https://docs.google.com/spreadsheets/d/{sheet_id}/export?format=csv&gid=\"\n",
    "\n",
    "\n",
    "# df = pd.read_csv(url, header=0)\n",
    "df = pd.read_csv(f\"{url}{historical_log_gid}\", header=0)\n",
    "prog_df = pd.read_csv(f\"{url}{prog_gid}\", header=None)\n",
    "# df.head()\n",
    "\n",
    "prog_df = prog_df.iloc[1,2]\n",
    "\n",
    "\n",
    "\n",
    "\n",
    "prog_df.head()"
   ]
  },
  {
   "cell_type": "code",
   "execution_count": 50,
   "metadata": {},
   "outputs": [
    {
     "ename": "TypeError",
     "evalue": "unhashable type: 'list'",
     "output_type": "error",
     "traceback": [
      "\u001b[31m---------------------------------------------------------------------------\u001b[39m",
      "\u001b[31mTypeError\u001b[39m                                 Traceback (most recent call last)",
      "\u001b[32m~\\AppData\\Local\\Temp\\ipykernel_100500\\3010318774.py\u001b[39m in \u001b[36m?\u001b[39m\u001b[34m()\u001b[39m\n\u001b[32m      1\u001b[39m prog_df = pd.read_csv(f\"{url}{prog_gid}\", header=\u001b[32m1\u001b[39m)\n\u001b[32m----> \u001b[39m\u001b[32m2\u001b[39m prog_df = prog_df.iloc([\u001b[32m1\u001b[39m,\u001b[32m2\u001b[39m,\u001b[32m3\u001b[39m])\n\u001b[32m      3\u001b[39m \n\u001b[32m      4\u001b[39m \n\u001b[32m      5\u001b[39m \n",
      "\u001b[32mc:\\Users\\king.m\\AppData\\Local\\Programs\\Python\\Python312\\Lib\\site-packages\\pandas\\core\\indexing.py\u001b[39m in \u001b[36m?\u001b[39m\u001b[34m(self, axis)\u001b[39m\n\u001b[32m    734\u001b[39m         \u001b[38;5;66;03m# we need to return a copy of ourselves\u001b[39;00m\n\u001b[32m    735\u001b[39m         new_self = type(self)(self.name, self.obj)\n\u001b[32m    736\u001b[39m \n\u001b[32m    737\u001b[39m         \u001b[38;5;28;01mif\u001b[39;00m axis \u001b[38;5;28;01mis\u001b[39;00m \u001b[38;5;28;01mnot\u001b[39;00m \u001b[38;5;28;01mNone\u001b[39;00m:\n\u001b[32m--> \u001b[39m\u001b[32m738\u001b[39m             axis_int_none = self.obj._get_axis_number(axis)\n\u001b[32m    739\u001b[39m         \u001b[38;5;28;01melse\u001b[39;00m:\n\u001b[32m    740\u001b[39m             axis_int_none = axis\n\u001b[32m    741\u001b[39m         new_self.axis = axis_int_none\n",
      "\u001b[32mc:\\Users\\king.m\\AppData\\Local\\Programs\\Python\\Python312\\Lib\\site-packages\\pandas\\core\\generic.py\u001b[39m in \u001b[36m?\u001b[39m\u001b[34m(cls, axis)\u001b[39m\n\u001b[32m    573\u001b[39m     @classmethod\n\u001b[32m    574\u001b[39m     \u001b[38;5;28;01mdef\u001b[39;00m _get_axis_number(cls, axis: Axis) -> AxisInt:\n\u001b[32m    575\u001b[39m         \u001b[38;5;28;01mtry\u001b[39;00m:\n\u001b[32m    576\u001b[39m             \u001b[38;5;28;01mreturn\u001b[39;00m cls._AXIS_TO_AXIS_NUMBER[axis]\n\u001b[32m--> \u001b[39m\u001b[32m577\u001b[39m         \u001b[38;5;28;01mexcept\u001b[39;00m KeyError:\n\u001b[32m    578\u001b[39m             \u001b[38;5;28;01mraise\u001b[39;00m ValueError(f\"No axis named {axis} for object type {cls.__name__}\")\n",
      "\u001b[31mTypeError\u001b[39m: unhashable type: 'list'"
     ]
    }
   ],
   "source": [
    "\n",
    "\n",
    "prog_df = pd.read_csv(f\"{url}{prog_gid}\", header=1)\n",
    "prog_df = prog_df.iloc([1,2,3])\n",
    "\n",
    "\n",
    "\n",
    "\n",
    "prog_df.head()\n"
   ]
  },
  {
   "cell_type": "code",
   "execution_count": null,
   "metadata": {},
   "outputs": [],
   "source": []
  }
 ],
 "metadata": {
  "kernelspec": {
   "display_name": "Python 3",
   "language": "python",
   "name": "python3"
  },
  "language_info": {
   "codemirror_mode": {
    "name": "ipython",
    "version": 3
   },
   "file_extension": ".py",
   "mimetype": "text/x-python",
   "name": "python",
   "nbconvert_exporter": "python",
   "pygments_lexer": "ipython3",
   "version": "3.12.2"
  }
 },
 "nbformat": 4,
 "nbformat_minor": 2
}
